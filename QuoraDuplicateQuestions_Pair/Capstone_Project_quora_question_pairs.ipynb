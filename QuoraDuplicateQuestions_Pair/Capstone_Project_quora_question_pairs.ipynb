{
 "cells": [
  {
   "cell_type": "code",
   "execution_count": 1,
   "metadata": {},
   "outputs": [],
   "source": [
    "# Importing the necessary libraries"
   ]
  },
  {
   "cell_type": "code",
   "execution_count": 1,
   "metadata": {},
   "outputs": [
    {
     "data": {
      "text/html": [
       "<script>requirejs.config({paths: { 'plotly': ['https://cdn.plot.ly/plotly-latest.min']},});if(!window.Plotly) {{require(['plotly'],function(plotly) {window.Plotly=plotly;});}}</script>"
      ],
      "text/vnd.plotly.v1+html": [
       "<script>requirejs.config({paths: { 'plotly': ['https://cdn.plot.ly/plotly-latest.min']},});if(!window.Plotly) {{require(['plotly'],function(plotly) {window.Plotly=plotly;});}}</script>"
      ]
     },
     "metadata": {},
     "output_type": "display_data"
    }
   ],
   "source": [
    "import pandas as pd\n",
    "import numpy as np\n",
    "import matplotlib.pyplot as plt\n",
    "import plotly.plotly as py\n",
    "import plotly.graph_objs as go\n",
    "import plotly\n",
    "from plotly.offline import init_notebook_mode\n",
    "import plotly.graph_objs as go\n",
    "plotly.offline.init_notebook_mode(connected=True)"
   ]
  },
  {
   "cell_type": "markdown",
   "metadata": {},
   "source": [
    "# I. Data Exploration <font color= black>\n",
    "    "
   ]
  },
  {
   "cell_type": "code",
   "execution_count": 2,
   "metadata": {},
   "outputs": [],
   "source": [
    "# Read training data\n",
    "training_df = pd.read_csv('~/train.csv', error_bad_lines=False)"
   ]
  },
  {
   "cell_type": "code",
   "execution_count": 3,
   "metadata": {},
   "outputs": [
    {
     "data": {
      "text/html": [
       "<div>\n",
       "<style scoped>\n",
       "    .dataframe tbody tr th:only-of-type {\n",
       "        vertical-align: middle;\n",
       "    }\n",
       "\n",
       "    .dataframe tbody tr th {\n",
       "        vertical-align: top;\n",
       "    }\n",
       "\n",
       "    .dataframe thead th {\n",
       "        text-align: right;\n",
       "    }\n",
       "</style>\n",
       "<table border=\"1\" class=\"dataframe\">\n",
       "  <thead>\n",
       "    <tr style=\"text-align: right;\">\n",
       "      <th></th>\n",
       "      <th>id</th>\n",
       "      <th>qid1</th>\n",
       "      <th>qid2</th>\n",
       "      <th>question1</th>\n",
       "      <th>question2</th>\n",
       "      <th>is_duplicate</th>\n",
       "    </tr>\n",
       "  </thead>\n",
       "  <tbody>\n",
       "    <tr>\n",
       "      <th>0</th>\n",
       "      <td>0</td>\n",
       "      <td>1</td>\n",
       "      <td>2</td>\n",
       "      <td>What is the step by step guide to invest in sh...</td>\n",
       "      <td>What is the step by step guide to invest in sh...</td>\n",
       "      <td>0</td>\n",
       "    </tr>\n",
       "    <tr>\n",
       "      <th>1</th>\n",
       "      <td>1</td>\n",
       "      <td>3</td>\n",
       "      <td>4</td>\n",
       "      <td>What is the story of Kohinoor (Koh-i-Noor) Dia...</td>\n",
       "      <td>What would happen if the Indian government sto...</td>\n",
       "      <td>0</td>\n",
       "    </tr>\n",
       "    <tr>\n",
       "      <th>2</th>\n",
       "      <td>2</td>\n",
       "      <td>5</td>\n",
       "      <td>6</td>\n",
       "      <td>How can I increase the speed of my internet co...</td>\n",
       "      <td>How can Internet speed be increased by hacking...</td>\n",
       "      <td>0</td>\n",
       "    </tr>\n",
       "    <tr>\n",
       "      <th>3</th>\n",
       "      <td>3</td>\n",
       "      <td>7</td>\n",
       "      <td>8</td>\n",
       "      <td>Why am I mentally very lonely? How can I solve...</td>\n",
       "      <td>Find the remainder when [math]23^{24}[/math] i...</td>\n",
       "      <td>0</td>\n",
       "    </tr>\n",
       "    <tr>\n",
       "      <th>4</th>\n",
       "      <td>4</td>\n",
       "      <td>9</td>\n",
       "      <td>10</td>\n",
       "      <td>Which one dissolve in water quikly sugar, salt...</td>\n",
       "      <td>Which fish would survive in salt water?</td>\n",
       "      <td>0</td>\n",
       "    </tr>\n",
       "  </tbody>\n",
       "</table>\n",
       "</div>"
      ],
      "text/plain": [
       "   id  qid1  qid2                                          question1  \\\n",
       "0   0     1     2  What is the step by step guide to invest in sh...   \n",
       "1   1     3     4  What is the story of Kohinoor (Koh-i-Noor) Dia...   \n",
       "2   2     5     6  How can I increase the speed of my internet co...   \n",
       "3   3     7     8  Why am I mentally very lonely? How can I solve...   \n",
       "4   4     9    10  Which one dissolve in water quikly sugar, salt...   \n",
       "\n",
       "                                           question2  is_duplicate  \n",
       "0  What is the step by step guide to invest in sh...             0  \n",
       "1  What would happen if the Indian government sto...             0  \n",
       "2  How can Internet speed be increased by hacking...             0  \n",
       "3  Find the remainder when [math]23^{24}[/math] i...             0  \n",
       "4            Which fish would survive in salt water?             0  "
      ]
     },
     "execution_count": 3,
     "metadata": {},
     "output_type": "execute_result"
    }
   ],
   "source": [
    "training_df.head(5)"
   ]
  },
  {
   "cell_type": "code",
   "execution_count": 4,
   "metadata": {},
   "outputs": [
    {
     "data": {
      "text/plain": [
       "(404290, 6)"
      ]
     },
     "execution_count": 4,
     "metadata": {},
     "output_type": "execute_result"
    }
   ],
   "source": [
    "training_df.shape"
   ]
  },
  {
   "cell_type": "code",
   "execution_count": 5,
   "metadata": {},
   "outputs": [
    {
     "data": {
      "text/plain": [
       "<matplotlib.axes._subplots.AxesSubplot at 0x7f0c029e0828>"
      ]
     },
     "execution_count": 5,
     "metadata": {},
     "output_type": "execute_result"
    },
    {
     "data": {
      "image/png": "[encoded data removed]",
      "text/plain": [
       "<Figure size 432x288 with 1 Axes>"
      ]
     },
     "metadata": {},
     "output_type": "display_data"
    }
   ],
   "source": [
    "#unique values \n",
    "pd.value_counts(training_df['is_duplicate']).plot.bar()"
   ]
  },
  {
   "cell_type": "code",
   "execution_count": 6,
   "metadata": {},
   "outputs": [
    {
     "name": "stderr",
     "output_type": "stream",
     "text": [
      "/home/ubuntu/anaconda3/lib/python3.6/site-packages/IPython/core/interactiveshell.py:2785: DtypeWarning:\n",
      "\n",
      "Columns (0) have mixed types. Specify dtype option on import or set low_memory=False.\n",
      "\n"
     ]
    },
    {
     "name": "stdout",
     "output_type": "stream",
     "text": [
      "Number of testing data: 3563475\n"
     ]
    },
    {
     "data": {
      "text/html": [
       "<div>\n",
       "<style scoped>\n",
       "    .dataframe tbody tr th:only-of-type {\n",
       "        vertical-align: middle;\n",
       "    }\n",
       "\n",
       "    .dataframe tbody tr th {\n",
       "        vertical-align: top;\n",
       "    }\n",
       "\n",
       "    .dataframe thead th {\n",
       "        text-align: right;\n",
       "    }\n",
       "</style>\n",
       "<table border=\"1\" class=\"dataframe\">\n",
       "  <thead>\n",
       "    <tr style=\"text-align: right;\">\n",
       "      <th></th>\n",
       "      <th>test_id</th>\n",
       "      <th>question1</th>\n",
       "      <th>question2</th>\n",
       "    </tr>\n",
       "  </thead>\n",
       "  <tbody>\n",
       "    <tr>\n",
       "      <th>0</th>\n",
       "      <td>0</td>\n",
       "      <td>How does the Surface Pro himself 4 compare wit...</td>\n",
       "      <td>Why did Microsoft choose core m3 and not core ...</td>\n",
       "    </tr>\n",
       "    <tr>\n",
       "      <th>1</th>\n",
       "      <td>1</td>\n",
       "      <td>Should I have a hair transplant at age 24? How...</td>\n",
       "      <td>How much cost does hair transplant require?</td>\n",
       "    </tr>\n",
       "    <tr>\n",
       "      <th>2</th>\n",
       "      <td>2</td>\n",
       "      <td>What but is the best way to send money from Ch...</td>\n",
       "      <td>What you send money to China?</td>\n",
       "    </tr>\n",
       "    <tr>\n",
       "      <th>3</th>\n",
       "      <td>3</td>\n",
       "      <td>Which food not emulsifiers?</td>\n",
       "      <td>What foods fibre?</td>\n",
       "    </tr>\n",
       "    <tr>\n",
       "      <th>4</th>\n",
       "      <td>4</td>\n",
       "      <td>How \"aberystwyth\" start reading?</td>\n",
       "      <td>How their can I start reading?</td>\n",
       "    </tr>\n",
       "  </tbody>\n",
       "</table>\n",
       "</div>"
      ],
      "text/plain": [
       "  test_id                                          question1  \\\n",
       "0       0  How does the Surface Pro himself 4 compare wit...   \n",
       "1       1  Should I have a hair transplant at age 24? How...   \n",
       "2       2  What but is the best way to send money from Ch...   \n",
       "3       3                        Which food not emulsifiers?   \n",
       "4       4                   How \"aberystwyth\" start reading?   \n",
       "\n",
       "                                           question2  \n",
       "0  Why did Microsoft choose core m3 and not core ...  \n",
       "1        How much cost does hair transplant require?  \n",
       "2                      What you send money to China?  \n",
       "3                                  What foods fibre?  \n",
       "4                     How their can I start reading?  "
      ]
     },
     "execution_count": 6,
     "metadata": {},
     "output_type": "execute_result"
    }
   ],
   "source": [
    "#Test data information\n",
    "\n",
    "test_df = pd.read_csv('~/test.csv')\n",
    "print(\"Number of testing data: %d\" %len(test_df))\n",
    "test_df.head(5)"
   ]
  },
  {
   "cell_type": "code",
   "execution_count": 5,
   "metadata": {},
   "outputs": [
    {
     "data": {
      "text/plain": [
       "(3563475, 3)"
      ]
     },
     "execution_count": 5,
     "metadata": {},
     "output_type": "execute_result"
    }
   ],
   "source": [
    "test_df.shape"
   ]
  },
  {
   "cell_type": "code",
   "execution_count": 7,
   "metadata": {},
   "outputs": [],
   "source": [
    "# data frame with dependant variable\n",
    "\n",
    "y =training_df['is_duplicate']"
   ]
  },
  {
   "cell_type": "code",
   "execution_count": 18,
   "metadata": {},
   "outputs": [
    {
     "data": {
      "text/plain": [
       "0    0\n",
       "1    0\n",
       "2    0\n",
       "3    0\n",
       "4    0\n",
       "Name: is_duplicate, dtype: int64"
      ]
     },
     "execution_count": 18,
     "metadata": {},
     "output_type": "execute_result"
    }
   ],
   "source": [
    "y.head()"
   ]
  },
  {
   "cell_type": "code",
   "execution_count": 8,
   "metadata": {},
   "outputs": [],
   "source": [
    "# data frame with independant variable\n",
    "training_df =training_df.drop(columns=['is_duplicate'])"
   ]
  },
  {
   "cell_type": "markdown",
   "metadata": {},
   "source": [
    "# II. Data processing <font color= black>"
   ]
  },
  {
   "cell_type": "code",
   "execution_count": null,
   "metadata": {},
   "outputs": [],
   "source": [
    "# Corpus creation on the data given in the trainging and test sets"
   ]
  },
  {
   "cell_type": "code",
   "execution_count": 6,
   "metadata": {},
   "outputs": [],
   "source": [
    "question_corpus = pd.concat([training_df[['question1','question2']], test_df[['question1','question2']]])"
   ]
  },
  {
   "cell_type": "code",
   "execution_count": null,
   "metadata": {},
   "outputs": [],
   "source": [
    "# Corpus content filteration"
   ]
  },
  {
   "cell_type": "code",
   "execution_count": 9,
   "metadata": {},
   "outputs": [
    {
     "name": "stdout",
     "output_type": "stream",
     "text": [
      "[nltk_data] Downloading package stopwords to /home/ubuntu/nltk_data...\n",
      "[nltk_data]   Package stopwords is already up-to-date!\n",
      "[nltk_data] Downloading package wordnet to /home/ubuntu/nltk_data...\n",
      "[nltk_data]   Package wordnet is already up-to-date!\n"
     ]
    },
    {
     "data": {
      "text/plain": [
       "True"
      ]
     },
     "execution_count": 9,
     "metadata": {},
     "output_type": "execute_result"
    }
   ],
   "source": [
    "# Downloading the necessary libraries\n",
    "\n",
    "from nltk.corpus import stopwords\n",
    "from nltk.stem.porter import *\n",
    "import nltk\n",
    "nltk.download(\"stopwords\")\n",
    "nltk.download('wordnet')"
   ]
  },
  {
   "cell_type": "code",
   "execution_count": null,
   "metadata": {},
   "outputs": [],
   "source": []
  },
  {
   "cell_type": "code",
   "execution_count": 10,
   "metadata": {},
   "outputs": [],
   "source": [
    "sw_dict={}\n",
    "    \n",
    "for i in stopwords.words('english'):\n",
    "    sw_dict[i]=1\n",
    "    \n",
    "\n"
   ]
  },
  {
   "cell_type": "code",
   "execution_count": 11,
   "metadata": {},
   "outputs": [],
   "source": [
    "import re\n",
    "from nltk.stem import WordNetLemmatizer\n",
    "\n",
    "from stemming.porter2 import stem\n",
    "\n",
    "lemi_words=[]\n",
    "stem_words=[]\n",
    "lmtzr = nltk.WordNetLemmatizer().lemmatize\n",
    "ps = PorterStemmer()\n",
    "\n",
    "\n",
    "\n",
    "def do_lemitise(word):\n",
    "    old_word=word\n",
    "    word = lmtzr(word)\n",
    "    if word != old_word:\n",
    "        lemi_words.append((old_word, word))\n",
    "        \n",
    "    return word\n",
    "    \n",
    "def do_stem(word):\n",
    "    old_word=word\n",
    "    word = stem(word)\n",
    "    if word != old_word:\n",
    "        stem_words.append((old_word, word))\n",
    "    return word\n",
    "        \n",
    "\n",
    "def do_process_word(word):\n",
    "    word = do_stem(word)\n",
    "    word = do_lemitise(word)\n",
    "    return word\n",
    "    \n",
    "    \n",
    "    \n",
    "\n",
    "def corpus_filteration(dfList):\n",
    "    \n",
    "    actual_list =[]\n",
    "    \n",
    "\n",
    "    \n",
    "    item_num=0\n",
    "\n",
    "    for k, v in dfList.iteritems():\n",
    "        questions_corpus = re.sub('[^a-zA-Z]',' ', str(v)).lower().split()\n",
    "        questions_corpus = [do_process_word(word) for word in questions_corpus if word not in sw_dict.keys()]\n",
    "        \n",
    "        actual_list.append(questions_corpus)\n",
    "        item_num = item_num + 1\n",
    "        if (item_num%1000000 == 0):\n",
    "            print (\"Done so far {} \".format(item_num) )\n",
    "    \n",
    "    return actual_list           \n",
    "    \n",
    "    "
   ]
  },
  {
   "cell_type": "code",
   "execution_count": 12,
   "metadata": {},
   "outputs": [],
   "source": [
    "training_df_question1 = corpus_filteration(training_df['question1'])"
   ]
  },
  {
   "cell_type": "code",
   "execution_count": 13,
   "metadata": {},
   "outputs": [],
   "source": [
    "training_df_question2 = corpus_filteration(training_df['question2'])"
   ]
  },
  {
   "cell_type": "code",
   "execution_count": null,
   "metadata": {},
   "outputs": [],
   "source": []
  },
  {
   "cell_type": "code",
   "execution_count": null,
   "metadata": {},
   "outputs": [],
   "source": [
    "question_corpus_list= corpus_filteration(question_corpus['question1']) + corpus_filteration(question_corpus['question2'])"
   ]
  },
  {
   "cell_type": "code",
   "execution_count": null,
   "metadata": {},
   "outputs": [],
   "source": []
  },
  {
   "cell_type": "code",
   "execution_count": null,
   "metadata": {},
   "outputs": [],
   "source": [
    "new_file=open(\"question_corpus_list.txt\",mode=\"a\")\n",
    "\n",
    "\n",
    "for i in test_question_list:\n",
    "    new_file.writelines(i)\n",
    "new_file.close()"
   ]
  },
  {
   "cell_type": "code",
   "execution_count": 41,
   "metadata": {},
   "outputs": [
    {
     "data": {
      "text/plain": [
       "\"\\nfrom gensim.models import Word2Vec\\nmodel = Word2Vec(test_question_list, min_count=1,size=50)\\n\\n\\n\\nwords = list(model.wv.vocab)\\n\\nmodel.save('model.bin')\\n\""
      ]
     },
     "execution_count": 41,
     "metadata": {},
     "output_type": "execute_result"
    }
   ],
   "source": [
    "\n",
    "from gensim.models import Word2Vec\n",
    "model = Word2Vec(test_question_list, min_count=1,size=50)\n",
    "\n",
    "\n",
    "\n",
    "words = list(model.wv.vocab)\n",
    "\n",
    "model.save('model.bin')\n"
   ]
  },
  {
   "cell_type": "code",
   "execution_count": 27,
   "metadata": {},
   "outputs": [],
   "source": [
    "# word2vec embeddings "
   ]
  },
  {
   "cell_type": "code",
   "execution_count": 14,
   "metadata": {},
   "outputs": [],
   "source": [
    "\n",
    "from gensim.models import Word2Vec\n",
    "from gensim.models import KeyedVectors\n",
    "\n",
    "word2vec_model = KeyedVectors.load('model.bin')\n",
    "word2vec_model.init_sims(replace=True)\n"
   ]
  },
  {
   "cell_type": "code",
   "execution_count": 28,
   "metadata": {},
   "outputs": [
    {
     "name": "stdout",
     "output_type": "stream",
     "text": [
      "<class 'gensim.models.word2vec.Word2Vec'>\n"
     ]
    }
   ],
   "source": [
    "print(type(word2vec_model))\n"
   ]
  },
  {
   "cell_type": "code",
   "execution_count": null,
   "metadata": {},
   "outputs": [],
   "source": [
    "#Distance calculation between the vectors"
   ]
  },
  {
   "cell_type": "code",
   "execution_count": 15,
   "metadata": {},
   "outputs": [],
   "source": [
    "from pyemd import emd\n",
    "def distance_calculation(d1,d2):\n",
    "        i=j=0\n",
    "        distance_list=[]\n",
    "        len_train_01 =len(d1)\n",
    "        len_train_02 =len(d2)\n",
    "        item_num=0\n",
    "        \n",
    "        \n",
    "        while (i<len_train_01 and j<len_train_02):\n",
    "            distance_questions = word2vec_model.wv.wmdistance(d1[i], d2[j])\n",
    "            \n",
    "            distance_list.append(distance_questions)\n",
    "            i=i+1\n",
    "            j=j+1\n",
    "            item_num = item_num + 1\n",
    "            if (item_num%100000 == 0):\n",
    "                print (\"Done so far {} \".format(item_num) )\n",
    "        training_df['is_duplicate_01']=distance_list\n",
    "        return training_df['is_duplicate_01']\n",
    "        "
   ]
  },
  {
   "cell_type": "code",
   "execution_count": 16,
   "metadata": {
    "scrolled": false
   },
   "outputs": [
    {
     "name": "stdout",
     "output_type": "stream",
     "text": [
      "Done so far 100000 \n",
      "Done so far 200000 \n",
      "Done so far 300000 \n",
      "Done so far 400000 \n"
     ]
    },
    {
     "data": {
      "text/plain": [
       "0         0.182588\n",
       "1         0.794831\n",
       "2         0.522713\n",
       "3         1.230278\n",
       "4         0.934650\n",
       "5         0.602225\n",
       "6         1.343568\n",
       "7         0.457476\n",
       "8         0.000000\n",
       "9         0.643127\n",
       "10        1.200547\n",
       "11        0.563762\n",
       "12        0.000000\n",
       "13        0.305871\n",
       "14        0.085295\n",
       "15        0.769805\n",
       "16        0.000000\n",
       "17        0.408174\n",
       "18        0.575044\n",
       "19        0.120852\n",
       "20        0.663469\n",
       "21        0.300835\n",
       "22        0.000000\n",
       "23        1.317550\n",
       "24        0.769116\n",
       "25        0.199825\n",
       "26        0.318798\n",
       "27        0.769089\n",
       "28        0.250733\n",
       "29        0.653618\n",
       "            ...   \n",
       "404260    0.574573\n",
       "404261    0.297097\n",
       "404262    0.285560\n",
       "404263    0.558133\n",
       "404264    0.819386\n",
       "404265    0.381791\n",
       "404266    0.938127\n",
       "404267    0.427773\n",
       "404268    0.924855\n",
       "404269    0.490077\n",
       "404270    0.000000\n",
       "404271    0.811712\n",
       "404272    0.709233\n",
       "404273    0.508930\n",
       "404274    0.493883\n",
       "404275    0.694403\n",
       "404276    0.147626\n",
       "404277    1.004356\n",
       "404278    0.506764\n",
       "404279    0.846021\n",
       "404280    0.205289\n",
       "404281    0.370509\n",
       "404282    0.276981\n",
       "404283    0.648177\n",
       "404284    0.276918\n",
       "404285    0.188833\n",
       "404286    0.257623\n",
       "404287    0.650308\n",
       "404288    1.314624\n",
       "404289    0.000000\n",
       "Name: is_duplicate_01, Length: 404290, dtype: float64"
      ]
     },
     "execution_count": 16,
     "metadata": {},
     "output_type": "execute_result"
    }
   ],
   "source": [
    "distance_calculation(training_df_question1,training_df_question2)"
   ]
  },
  {
   "cell_type": "code",
   "execution_count": 17,
   "metadata": {
    "scrolled": false
   },
   "outputs": [
    {
     "name": "stderr",
     "output_type": "stream",
     "text": [
      "/home/ubuntu/anaconda3/lib/python3.6/site-packages/ipykernel/__main__.py:9: FutureWarning:\n",
      "\n",
      "set_value is deprecated and will be removed in a future release. Please use .at[] or .iat[] accessors instead\n",
      "\n",
      "/home/ubuntu/anaconda3/lib/python3.6/site-packages/ipykernel/__main__.py:7: FutureWarning:\n",
      "\n",
      "set_value is deprecated and will be removed in a future release. Please use .at[] or .iat[] accessors instead\n",
      "\n",
      "/home/ubuntu/anaconda3/lib/python3.6/site-packages/ipykernel/__main__.py:5: FutureWarning:\n",
      "\n",
      "set_value is deprecated and will be removed in a future release. Please use .at[] or .iat[] accessors instead\n",
      "\n"
     ]
    },
    {
     "name": "stdout",
     "output_type": "stream",
     "text": [
      "Done so far 100000 \n",
      "Done so far 200000 \n",
      "Done so far 300000 \n",
      "Done so far 400000 \n"
     ]
    }
   ],
   "source": [
    "# Assigning the values as 0 and 1\n",
    "item_num =0\n",
    "for i, row in training_df['is_duplicate_01'].iteritems():\n",
    "    if row == 0.000000:\n",
    "        training_df.set_value(i,'is_duplicate_01',int(1))\n",
    "    elif (row >= 0.28 and row <= 0.72):\n",
    "        training_df.set_value(i,'is_duplicate_01',int(1))\n",
    "    else:\n",
    "        training_df.set_value(i,'is_duplicate_01',int(0))\n",
    "    item_num = item_num + 1\n",
    "    if (item_num%100000 == 0):\n",
    "        print (\"Done so far {} \".format(item_num) )\n",
    "        \n",
    "   \n"
   ]
  },
  {
   "cell_type": "code",
   "execution_count": 18,
   "metadata": {},
   "outputs": [],
   "source": [
    "# calculate the average length of the questions\n",
    "\n",
    "def avg_length_corpus(training_error1_cf):\n",
    "    \n",
    "    min_length=0\n",
    "    max_length=len(training_error1_cf[0])\n",
    "    \n",
    "    for i in range(0,len(training_error1_cf)):\n",
    "        if len(training_error1_cf[i]) <=min_length :\n",
    "            min_length= len(training_error1_cf[i])\n",
    "        \n",
    "    \n",
    "    for i in range(1,len(training_error1_cf)):\n",
    "        if len(training_error1_cf[i]) > max_length:\n",
    "            max_length= len(training_error1_cf[i])\n",
    "        \n",
    "    \n",
    "    avg_length= (min_length + max_length)//2\n",
    "    \n",
    "    \n",
    "    return min_length,max_length,avg_length\n",
    "\n"
   ]
  },
  {
   "cell_type": "code",
   "execution_count": 35,
   "metadata": {},
   "outputs": [],
   "source": [
    "avg_question1_training_set= avg_length_corpus(training_df_question1)"
   ]
  },
  {
   "cell_type": "code",
   "execution_count": 36,
   "metadata": {},
   "outputs": [],
   "source": [
    "avg_question2_training_set= avg_length_corpus(training_df_question1)"
   ]
  },
  {
   "cell_type": "code",
   "execution_count": null,
   "metadata": {},
   "outputs": [],
   "source": []
  },
  {
   "cell_type": "code",
   "execution_count": 37,
   "metadata": {},
   "outputs": [],
   "source": [
    "def len_trainging_questions_array(training_error1_cf):\n",
    "    questions_length_array =[]\n",
    "    for i in training_error1_cf:\n",
    "        questions_length_array.append(len(i))\n",
    "        \n",
    "    return questions_length_array\n",
    "    "
   ]
  },
  {
   "cell_type": "code",
   "execution_count": 38,
   "metadata": {},
   "outputs": [],
   "source": [
    "question_1_length =len_trainging_questions_array(training_df_question1)"
   ]
  },
  {
   "cell_type": "code",
   "execution_count": 39,
   "metadata": {},
   "outputs": [],
   "source": [
    "question_2_length =len_trainging_questions_array(training_df_question1)"
   ]
  },
  {
   "cell_type": "markdown",
   "metadata": {},
   "source": [
    "# III. Feature  Visualization <font color= black>"
   ]
  },
  {
   "cell_type": "code",
   "execution_count": 19,
   "metadata": {},
   "outputs": [
    {
     "ename": "NameError",
     "evalue": "name 'question_2_length' is not defined",
     "output_type": "error",
     "traceback": [
      "\u001b[0;31m---------------------------------------------------------------------------\u001b[0m",
      "\u001b[0;31mNameError\u001b[0m                                 Traceback (most recent call last)",
      "\u001b[0;32m<ipython-input-19-0ebb6585685f>\u001b[0m in \u001b[0;36m<module>\u001b[0;34m()\u001b[0m\n\u001b[1;32m      5\u001b[0m \u001b[0;34m\u001b[0m\u001b[0m\n\u001b[1;32m      6\u001b[0m trace = go.Box(\n\u001b[0;32m----> 7\u001b[0;31m     \u001b[0my\u001b[0m\u001b[0;34m=\u001b[0m \u001b[0mquestion_2_length\u001b[0m\u001b[0;34m,\u001b[0m\u001b[0;34m\u001b[0m\u001b[0m\n\u001b[0m\u001b[1;32m      8\u001b[0m     \u001b[0mname\u001b[0m\u001b[0;34m=\u001b[0m\u001b[0;34m'Mean & SD'\u001b[0m\u001b[0;34m,\u001b[0m\u001b[0;34m\u001b[0m\u001b[0m\n\u001b[1;32m      9\u001b[0m     marker=dict(\n",
      "\u001b[0;31mNameError\u001b[0m: name 'question_2_length' is not defined"
     ]
    }
   ],
   "source": [
    "\n",
    "import plotly.plotly as py\n",
    "import plotly.graph_objs as go\n",
    "\n",
    "\n",
    "trace = go.Box(\n",
    "    y= question_2_length,\n",
    "    name='Mean & SD',\n",
    "    marker=dict(\n",
    "        color='rgb(10, 140, 208)',\n",
    "    ),\n",
    "    boxmean='sd'\n",
    ")\n",
    "data = [trace]\n",
    "#py.iplot(data)\n",
    "plotly.offline.plot(data)\n"
   ]
  },
  {
   "cell_type": "code",
   "execution_count": 23,
   "metadata": {},
   "outputs": [],
   "source": [
    "def duplicate_entries(input_array):\n",
    "    \n",
    "    final_result=[]\n",
    "    new_array=[]\n",
    "    unseen=set()\n",
    "    count=0\n",
    "    for i in input_array:\n",
    "        for j in i:\n",
    "                 if j not in unseen:\n",
    "                    unseen.add(j)\n",
    "                    final_result.append(word2vec_model[j])\n",
    "                    #final_result.append(j)\n",
    "        if len(final_result) >6:\n",
    "            final_result=final_result[0:6]\n",
    "        else:\n",
    "            array_length=len(final_result)\n",
    "            while array_length <6:\n",
    "                final_result.append(np.zeros(50))\n",
    "                array_length=array_length +1\n",
    "                    \n",
    "        new_array.append(final_result)\n",
    "        final_result=[]\n",
    "            \n",
    "    \n",
    "    return new_array\n",
    "\n",
    "\n",
    "\n",
    "\n"
   ]
  },
  {
   "cell_type": "code",
   "execution_count": 24,
   "metadata": {},
   "outputs": [
    {
     "name": "stderr",
     "output_type": "stream",
     "text": [
      "/home/ubuntu/anaconda3/lib/python3.6/site-packages/ipykernel/__main__.py:11: DeprecationWarning:\n",
      "\n",
      "Call to deprecated `__getitem__` (Method will be removed in 4.0.0, use self.wv.__getitem__() instead).\n",
      "\n"
     ]
    }
   ],
   "source": [
    "vector_training_set_question1 =duplicate_entries(training_df_question1)"
   ]
  },
  {
   "cell_type": "code",
   "execution_count": 25,
   "metadata": {},
   "outputs": [
    {
     "name": "stderr",
     "output_type": "stream",
     "text": [
      "/home/ubuntu/anaconda3/lib/python3.6/site-packages/ipykernel/__main__.py:11: DeprecationWarning:\n",
      "\n",
      "Call to deprecated `__getitem__` (Method will be removed in 4.0.0, use self.wv.__getitem__() instead).\n",
      "\n"
     ]
    }
   ],
   "source": [
    "vector_training_set_question2 =duplicate_entries(training_df_question1)"
   ]
  },
  {
   "cell_type": "code",
   "execution_count": 26,
   "metadata": {},
   "outputs": [],
   "source": [
    "question1_vector = np.array(vector_training_set_question1)\n",
    "question2_vector = np.array(vector_training_set_question2)"
   ]
  },
  {
   "cell_type": "code",
   "execution_count": 27,
   "metadata": {},
   "outputs": [],
   "source": [
    "result=np.column_stack((question1_vector,question2_vector))"
   ]
  },
  {
   "cell_type": "code",
   "execution_count": null,
   "metadata": {},
   "outputs": [],
   "source": [
    "len(result)\n"
   ]
  },
  {
   "cell_type": "code",
   "execution_count": null,
   "metadata": {},
   "outputs": [],
   "source": [
    "#creating the input dimensions\n",
    "in_dim=600"
   ]
  },
  {
   "cell_type": "code",
   "execution_count": 28,
   "metadata": {},
   "outputs": [],
   "source": [
    "X=result"
   ]
  },
  {
   "cell_type": "code",
   "execution_count": 30,
   "metadata": {},
   "outputs": [],
   "source": [
    "# Split training data to train and validation data sets\n",
    "from sklearn.model_selection import train_test_split\n",
    "X_train, X_test, y_train, y_test = train_test_split( X, y, test_size=0.10, random_state=30)"
   ]
  },
  {
   "cell_type": "code",
   "execution_count": 55,
   "metadata": {},
   "outputs": [],
   "source": [
    "X_train= X_train.reshape(363861, in_dim)"
   ]
  },
  {
   "cell_type": "code",
   "execution_count": 56,
   "metadata": {},
   "outputs": [],
   "source": [
    "X_train = X_train.astype('float32')"
   ]
  },
  {
   "cell_type": "code",
   "execution_count": 57,
   "metadata": {},
   "outputs": [],
   "source": [
    "X_test = X_test.reshape(40429, in_dim) "
   ]
  },
  {
   "cell_type": "code",
   "execution_count": 58,
   "metadata": {},
   "outputs": [],
   "source": [
    "X_test = X_test.astype('float32')\n"
   ]
  },
  {
   "cell_type": "markdown",
   "metadata": {},
   "source": [
    "# IV. Algorithms and Techniques <font color= black>"
   ]
  },
  {
   "cell_type": "code",
   "execution_count": 59,
   "metadata": {},
   "outputs": [
    {
     "name": "stderr",
     "output_type": "stream",
     "text": [
      "Using TensorFlow backend.\n"
     ]
    }
   ],
   "source": [
    "# Importing necessary libraries for KNN\n",
    "\n",
    "from keras.models import Sequential\n",
    "from keras.layers import Dense,Activation\n",
    "from keras.regularizers import L1L2\n",
    "from keras.utils import np_utils\n",
    "from keras.layers import LSTM,Flatten"
   ]
  },
  {
   "cell_type": "code",
   "execution_count": 60,
   "metadata": {},
   "outputs": [],
   "source": [
    "Y_train = np_utils.to_categorical(y_train)\n",
    "Y_test = np_utils.to_categorical(y_test)"
   ]
  },
  {
   "cell_type": "code",
   "execution_count": 61,
   "metadata": {},
   "outputs": [],
   "source": [
    "# reshaping the input making it one dimensional\n",
    "X_train = np.reshape(X_train, (X_train.shape[0], 1, X_train.shape[1]))\n",
    "X_test = np.reshape(X_test, (X_test.shape[0], 1, X_test.shape[1]))"
   ]
  },
  {
   "cell_type": "code",
   "execution_count": null,
   "metadata": {},
   "outputs": [],
   "source": []
  },
  {
   "cell_type": "code",
   "execution_count": 62,
   "metadata": {},
   "outputs": [
    {
     "name": "stderr",
     "output_type": "stream",
     "text": [
      "/home/ubuntu/anaconda3/lib/python3.6/site-packages/ipykernel/__main__.py:5: UserWarning:\n",
      "\n",
      "Update your `LSTM` call to the Keras 2 API: `LSTM(30, input_shape=(1, 600), return_sequences=True, recurrent_dropout=0.2)`\n",
      "\n"
     ]
    }
   ],
   "source": [
    "#Making the sequential model in keras\n",
    "\n",
    "model = Sequential()\n",
    "\n",
    "model.add(LSTM(30, dropout_U =0.2,input_shape=(1, 600),return_sequences=True))\n",
    "model.add(Flatten())\n",
    "model.add(Dense(2, activation='softmax',input_dim=600) )"
   ]
  },
  {
   "cell_type": "code",
   "execution_count": 63,
   "metadata": {},
   "outputs": [],
   "source": [
    "# Compiling the model\n",
    "model.compile(optimizer='sgd',loss='binary_crossentropy',metrics=['accuracy'])"
   ]
  },
  {
   "cell_type": "code",
   "execution_count": 64,
   "metadata": {
    "scrolled": false
   },
   "outputs": [
    {
     "name": "stdout",
     "output_type": "stream",
     "text": [
      "Train on 327474 samples, validate on 36387 samples\n",
      "Epoch 1/100\n",
      "327474/327474 [==============================] - 102s 311us/step - loss: 0.6540 - acc: 0.6310 - val_loss: 0.6519 - val_acc: 0.6276\n",
      "Epoch 2/100\n",
      "327474/327474 [==============================] - 101s 308us/step - loss: 0.6502 - acc: 0.6300 - val_loss: 0.6504 - val_acc: 0.6271\n",
      "Epoch 3/100\n",
      "327474/327474 [==============================] - 101s 308us/step - loss: 0.6498 - acc: 0.6299 - val_loss: 0.6502 - val_acc: 0.6273\n",
      "Epoch 4/100\n",
      "327474/327474 [==============================] - 101s 307us/step - loss: 0.6496 - acc: 0.6299 - val_loss: 0.6498 - val_acc: 0.6273\n",
      "Epoch 5/100\n",
      "327474/327474 [==============================] - 99s 302us/step - loss: 0.6494 - acc: 0.6300 - val_loss: 0.6498 - val_acc: 0.6273\n",
      "Epoch 6/100\n",
      "327474/327474 [==============================] - 99s 302us/step - loss: 0.6493 - acc: 0.6301 - val_loss: 0.6496 - val_acc: 0.6274\n",
      "Epoch 7/100\n",
      "327474/327474 [==============================] - 99s 302us/step - loss: 0.6493 - acc: 0.6301 - val_loss: 0.6499 - val_acc: 0.6277\n",
      "Epoch 8/100\n",
      "327474/327474 [==============================] - 99s 302us/step - loss: 0.6492 - acc: 0.6302 - val_loss: 0.6498 - val_acc: 0.6278\n",
      "Epoch 9/100\n",
      "327474/327474 [==============================] - 99s 302us/step - loss: 0.6491 - acc: 0.6302 - val_loss: 0.6500 - val_acc: 0.6278\n",
      "Epoch 10/100\n",
      "327474/327474 [==============================] - 99s 302us/step - loss: 0.6491 - acc: 0.6303 - val_loss: 0.6502 - val_acc: 0.6272\n",
      "Epoch 11/100\n",
      "327474/327474 [==============================] - 99s 301us/step - loss: 0.6491 - acc: 0.6303 - val_loss: 0.6494 - val_acc: 0.6276\n",
      "Epoch 12/100\n",
      "327474/327474 [==============================] - 99s 301us/step - loss: 0.6491 - acc: 0.6303 - val_loss: 0.6497 - val_acc: 0.6273\n",
      "Epoch 13/100\n",
      "327474/327474 [==============================] - 98s 300us/step - loss: 0.6490 - acc: 0.6303 - val_loss: 0.6494 - val_acc: 0.6277\n",
      "Epoch 14/100\n",
      "327474/327474 [==============================] - 98s 300us/step - loss: 0.6490 - acc: 0.6304 - val_loss: 0.6495 - val_acc: 0.6276\n",
      "Epoch 15/100\n",
      "327474/327474 [==============================] - 98s 300us/step - loss: 0.6490 - acc: 0.6305 - val_loss: 0.6494 - val_acc: 0.6278\n",
      "Epoch 16/100\n",
      "327474/327474 [==============================] - 98s 300us/step - loss: 0.6489 - acc: 0.6305 - val_loss: 0.6493 - val_acc: 0.6278\n",
      "Epoch 17/100\n",
      "327474/327474 [==============================] - 98s 300us/step - loss: 0.6489 - acc: 0.6306 - val_loss: 0.6495 - val_acc: 0.6279\n",
      "Epoch 18/100\n",
      "327474/327474 [==============================] - 98s 300us/step - loss: 0.6488 - acc: 0.6306 - val_loss: 0.6493 - val_acc: 0.6280\n",
      "Epoch 19/100\n",
      "327474/327474 [==============================] - 98s 300us/step - loss: 0.6487 - acc: 0.6307 - val_loss: 0.6493 - val_acc: 0.6281\n",
      "Epoch 20/100\n",
      "327474/327474 [==============================] - 98s 300us/step - loss: 0.6487 - acc: 0.6307 - val_loss: 0.6504 - val_acc: 0.6282\n",
      "Epoch 21/100\n",
      "327474/327474 [==============================] - 98s 300us/step - loss: 0.6486 - acc: 0.6308 - val_loss: 0.6494 - val_acc: 0.6283\n",
      "Epoch 22/100\n",
      "327474/327474 [==============================] - 98s 300us/step - loss: 0.6486 - acc: 0.6309 - val_loss: 0.6493 - val_acc: 0.6283\n",
      "Epoch 23/100\n",
      "327474/327474 [==============================] - 98s 300us/step - loss: 0.6485 - acc: 0.6309 - val_loss: 0.6490 - val_acc: 0.6281\n",
      "Epoch 24/100\n",
      "327474/327474 [==============================] - 98s 300us/step - loss: 0.6485 - acc: 0.6309 - val_loss: 0.6491 - val_acc: 0.6283\n",
      "Epoch 25/100\n",
      "327474/327474 [==============================] - 98s 300us/step - loss: 0.6484 - acc: 0.6310 - val_loss: 0.6490 - val_acc: 0.6281\n",
      "Epoch 26/100\n",
      "327474/327474 [==============================] - 98s 300us/step - loss: 0.6484 - acc: 0.6310 - val_loss: 0.6497 - val_acc: 0.6280\n",
      "Epoch 27/100\n",
      "327474/327474 [==============================] - 98s 300us/step - loss: 0.6483 - acc: 0.6310 - val_loss: 0.6489 - val_acc: 0.6283\n",
      "Epoch 28/100\n",
      "327474/327474 [==============================] - 98s 300us/step - loss: 0.6482 - acc: 0.6311 - val_loss: 0.6494 - val_acc: 0.6283\n",
      "Epoch 29/100\n",
      "327474/327474 [==============================] - 98s 300us/step - loss: 0.6482 - acc: 0.6311 - val_loss: 0.6492 - val_acc: 0.6284\n",
      "Epoch 30/100\n",
      "327474/327474 [==============================] - 98s 300us/step - loss: 0.6481 - acc: 0.6311 - val_loss: 0.6487 - val_acc: 0.6282\n",
      "Epoch 31/100\n",
      "327474/327474 [==============================] - 98s 300us/step - loss: 0.6480 - acc: 0.6311 - val_loss: 0.6486 - val_acc: 0.6283\n",
      "Epoch 32/100\n",
      "327474/327474 [==============================] - 98s 300us/step - loss: 0.6480 - acc: 0.6312 - val_loss: 0.6488 - val_acc: 0.6284\n",
      "Epoch 33/100\n",
      "327474/327474 [==============================] - 98s 300us/step - loss: 0.6479 - acc: 0.6312 - val_loss: 0.6487 - val_acc: 0.6284\n",
      "Epoch 34/100\n",
      "327474/327474 [==============================] - 98s 300us/step - loss: 0.6479 - acc: 0.6311 - val_loss: 0.6485 - val_acc: 0.6283\n",
      "Epoch 35/100\n",
      "327474/327474 [==============================] - 98s 300us/step - loss: 0.6478 - acc: 0.6312 - val_loss: 0.6492 - val_acc: 0.6282\n",
      "Epoch 36/100\n",
      "327474/327474 [==============================] - 98s 300us/step - loss: 0.6477 - acc: 0.6312 - val_loss: 0.6484 - val_acc: 0.6283\n",
      "Epoch 37/100\n",
      "327474/327474 [==============================] - 98s 300us/step - loss: 0.6477 - acc: 0.6312 - val_loss: 0.6486 - val_acc: 0.6283\n",
      "Epoch 38/100\n",
      "327474/327474 [==============================] - 98s 299us/step - loss: 0.6477 - acc: 0.6312 - val_loss: 0.6489 - val_acc: 0.6282\n",
      "Epoch 39/100\n",
      "327474/327474 [==============================] - 98s 299us/step - loss: 0.6476 - acc: 0.6312 - val_loss: 0.6482 - val_acc: 0.6283\n",
      "Epoch 40/100\n",
      "327474/327474 [==============================] - 98s 299us/step - loss: 0.6475 - acc: 0.6313 - val_loss: 0.6482 - val_acc: 0.6283\n",
      "Epoch 41/100\n",
      "327474/327474 [==============================] - 98s 299us/step - loss: 0.6476 - acc: 0.6313 - val_loss: 0.6490 - val_acc: 0.6282\n",
      "Epoch 42/100\n",
      "327474/327474 [==============================] - 98s 299us/step - loss: 0.6475 - acc: 0.6313 - val_loss: 0.6481 - val_acc: 0.6284\n",
      "Epoch 43/100\n",
      "327474/327474 [==============================] - 98s 299us/step - loss: 0.6475 - acc: 0.6313 - val_loss: 0.6481 - val_acc: 0.6284\n",
      "Epoch 44/100\n",
      "327474/327474 [==============================] - 98s 299us/step - loss: 0.6474 - acc: 0.6313 - val_loss: 0.6491 - val_acc: 0.6282\n",
      "Epoch 45/100\n",
      "327474/327474 [==============================] - 98s 299us/step - loss: 0.6474 - acc: 0.6313 - val_loss: 0.6482 - val_acc: 0.6284\n",
      "Epoch 46/100\n",
      "327474/327474 [==============================] - 98s 299us/step - loss: 0.6473 - acc: 0.6313 - val_loss: 0.6487 - val_acc: 0.6284\n",
      "Epoch 47/100\n",
      "327474/327474 [==============================] - 98s 299us/step - loss: 0.6473 - acc: 0.6313 - val_loss: 0.6479 - val_acc: 0.6284\n",
      "Epoch 48/100\n",
      "327474/327474 [==============================] - 98s 299us/step - loss: 0.6473 - acc: 0.6313 - val_loss: 0.6481 - val_acc: 0.6284\n",
      "Epoch 49/100\n",
      "327474/327474 [==============================] - 98s 299us/step - loss: 0.6473 - acc: 0.6313 - val_loss: 0.6484 - val_acc: 0.6284\n",
      "Epoch 50/100\n",
      "327474/327474 [==============================] - 98s 299us/step - loss: 0.6473 - acc: 0.6313 - val_loss: 0.6478 - val_acc: 0.6284\n",
      "Epoch 51/100\n",
      "327474/327474 [==============================] - 98s 299us/step - loss: 0.6472 - acc: 0.6313 - val_loss: 0.6478 - val_acc: 0.6284\n",
      "Epoch 52/100\n",
      "327474/327474 [==============================] - 98s 300us/step - loss: 0.6472 - acc: 0.6313 - val_loss: 0.6478 - val_acc: 0.6284\n",
      "Epoch 53/100\n",
      "327474/327474 [==============================] - 98s 299us/step - loss: 0.6472 - acc: 0.6313 - val_loss: 0.6483 - val_acc: 0.6284\n",
      "Epoch 54/100\n",
      "327474/327474 [==============================] - 98s 299us/step - loss: 0.6472 - acc: 0.6313 - val_loss: 0.6485 - val_acc: 0.6284\n",
      "Epoch 55/100\n",
      "327474/327474 [==============================] - 98s 299us/step - loss: 0.6471 - acc: 0.6313 - val_loss: 0.6483 - val_acc: 0.6284\n",
      "Epoch 56/100\n",
      "327474/327474 [==============================] - 98s 299us/step - loss: 0.6471 - acc: 0.6313 - val_loss: 0.6477 - val_acc: 0.6284\n",
      "Epoch 57/100\n",
      "327474/327474 [==============================] - 98s 299us/step - loss: 0.6471 - acc: 0.6314 - val_loss: 0.6484 - val_acc: 0.6284\n"
     ]
    },
    {
     "name": "stdout",
     "output_type": "stream",
     "text": [
      "Epoch 58/100\n",
      "327474/327474 [==============================] - 98s 300us/step - loss: 0.6471 - acc: 0.6313 - val_loss: 0.6478 - val_acc: 0.6284\n",
      "Epoch 59/100\n",
      "327474/327474 [==============================] - 98s 299us/step - loss: 0.6471 - acc: 0.6313 - val_loss: 0.6483 - val_acc: 0.6284\n",
      "Epoch 60/100\n",
      "327474/327474 [==============================] - 98s 299us/step - loss: 0.6470 - acc: 0.6313 - val_loss: 0.6488 - val_acc: 0.6284\n",
      "Epoch 61/100\n",
      "327474/327474 [==============================] - 98s 300us/step - loss: 0.6471 - acc: 0.6313 - val_loss: 0.6479 - val_acc: 0.6284\n",
      "Epoch 62/100\n",
      "327474/327474 [==============================] - 98s 300us/step - loss: 0.6470 - acc: 0.6314 - val_loss: 0.6477 - val_acc: 0.6284\n",
      "Epoch 63/100\n",
      "327474/327474 [==============================] - 98s 300us/step - loss: 0.6470 - acc: 0.6314 - val_loss: 0.6484 - val_acc: 0.6283\n",
      "Epoch 64/100\n",
      "327474/327474 [==============================] - 98s 299us/step - loss: 0.6470 - acc: 0.6314 - val_loss: 0.6476 - val_acc: 0.6284\n",
      "Epoch 65/100\n",
      "327474/327474 [==============================] - 98s 299us/step - loss: 0.6470 - acc: 0.6314 - val_loss: 0.6486 - val_acc: 0.6284\n",
      "Epoch 66/100\n",
      "327474/327474 [==============================] - 98s 300us/step - loss: 0.6470 - acc: 0.6313 - val_loss: 0.6476 - val_acc: 0.6283\n",
      "Epoch 67/100\n",
      "327474/327474 [==============================] - 98s 300us/step - loss: 0.6470 - acc: 0.6314 - val_loss: 0.6476 - val_acc: 0.6283\n",
      "Epoch 68/100\n",
      "327474/327474 [==============================] - 98s 299us/step - loss: 0.6469 - acc: 0.6314 - val_loss: 0.6476 - val_acc: 0.6284\n",
      "Epoch 69/100\n",
      "327474/327474 [==============================] - 98s 300us/step - loss: 0.6470 - acc: 0.6314 - val_loss: 0.6476 - val_acc: 0.6283\n",
      "Epoch 70/100\n",
      "327474/327474 [==============================] - 98s 300us/step - loss: 0.6470 - acc: 0.6314 - val_loss: 0.6476 - val_acc: 0.6283\n",
      "Epoch 71/100\n",
      "327474/327474 [==============================] - 98s 300us/step - loss: 0.6469 - acc: 0.6314 - val_loss: 0.6490 - val_acc: 0.6283\n",
      "Epoch 72/100\n",
      "327474/327474 [==============================] - 98s 299us/step - loss: 0.6469 - acc: 0.6314 - val_loss: 0.6479 - val_acc: 0.6284\n",
      "Epoch 73/100\n",
      "327474/327474 [==============================] - 98s 300us/step - loss: 0.6469 - acc: 0.6314 - val_loss: 0.6490 - val_acc: 0.6283\n",
      "Epoch 74/100\n",
      "327474/327474 [==============================] - 98s 300us/step - loss: 0.6469 - acc: 0.6314 - val_loss: 0.6476 - val_acc: 0.6283\n",
      "Epoch 75/100\n",
      "327474/327474 [==============================] - 98s 300us/step - loss: 0.6469 - acc: 0.6314 - val_loss: 0.6475 - val_acc: 0.6284\n",
      "Epoch 76/100\n",
      "327474/327474 [==============================] - 98s 299us/step - loss: 0.6469 - acc: 0.6314 - val_loss: 0.6480 - val_acc: 0.6284\n",
      "Epoch 77/100\n",
      "327474/327474 [==============================] - 98s 300us/step - loss: 0.6468 - acc: 0.6314 - val_loss: 0.6475 - val_acc: 0.6284\n",
      "Epoch 78/100\n",
      "327474/327474 [==============================] - 98s 299us/step - loss: 0.6469 - acc: 0.6314 - val_loss: 0.6475 - val_acc: 0.6283\n",
      "Epoch 79/100\n",
      "327474/327474 [==============================] - 98s 300us/step - loss: 0.6468 - acc: 0.6314 - val_loss: 0.6475 - val_acc: 0.6284\n",
      "Epoch 80/100\n",
      "327474/327474 [==============================] - 98s 300us/step - loss: 0.6468 - acc: 0.6314 - val_loss: 0.6478 - val_acc: 0.6284\n",
      "Epoch 81/100\n",
      "327474/327474 [==============================] - 98s 299us/step - loss: 0.6468 - acc: 0.6314 - val_loss: 0.6476 - val_acc: 0.6283\n",
      "Epoch 82/100\n",
      "327474/327474 [==============================] - 98s 299us/step - loss: 0.6468 - acc: 0.6314 - val_loss: 0.6482 - val_acc: 0.6283\n",
      "Epoch 83/100\n",
      "327474/327474 [==============================] - 98s 300us/step - loss: 0.6468 - acc: 0.6314 - val_loss: 0.6475 - val_acc: 0.6283\n",
      "Epoch 84/100\n",
      "327474/327474 [==============================] - 98s 300us/step - loss: 0.6468 - acc: 0.6314 - val_loss: 0.6475 - val_acc: 0.6283\n",
      "Epoch 85/100\n",
      "327474/327474 [==============================] - 98s 300us/step - loss: 0.6468 - acc: 0.6314 - val_loss: 0.6475 - val_acc: 0.6283\n",
      "Epoch 86/100\n",
      "327474/327474 [==============================] - 125s 383us/step - loss: 0.6468 - acc: 0.6314 - val_loss: 0.6475 - val_acc: 0.6284\n",
      "Epoch 87/100\n",
      "327474/327474 [==============================] - 162s 494us/step - loss: 0.6468 - acc: 0.6314 - val_loss: 0.6475 - val_acc: 0.6284\n",
      "Epoch 88/100\n",
      "327474/327474 [==============================] - 190s 580us/step - loss: 0.6467 - acc: 0.6314 - val_loss: 0.6476 - val_acc: 0.6284\n",
      "Epoch 89/100\n",
      "327474/327474 [==============================] - 247s 753us/step - loss: 0.6467 - acc: 0.6314 - val_loss: 0.6494 - val_acc: 0.6285\n",
      "Epoch 90/100\n",
      "327474/327474 [==============================] - 240s 733us/step - loss: 0.6467 - acc: 0.6314 - val_loss: 0.6475 - val_acc: 0.6284\n",
      "Epoch 91/100\n",
      "327474/327474 [==============================] - 186s 569us/step - loss: 0.6467 - acc: 0.6314 - val_loss: 0.6482 - val_acc: 0.6283\n",
      "Epoch 92/100\n",
      "327474/327474 [==============================] - 195s 597us/step - loss: 0.6467 - acc: 0.6314 - val_loss: 0.6480 - val_acc: 0.6285\n",
      "Epoch 93/100\n",
      "327474/327474 [==============================] - 262s 799us/step - loss: 0.6467 - acc: 0.6314 - val_loss: 0.6478 - val_acc: 0.6285\n",
      "Epoch 94/100\n",
      "327474/327474 [==============================] - 201s 615us/step - loss: 0.6467 - acc: 0.6314 - val_loss: 0.6484 - val_acc: 0.6285\n",
      "Epoch 95/100\n",
      "327474/327474 [==============================] - 182s 555us/step - loss: 0.6467 - acc: 0.6314 - val_loss: 0.6490 - val_acc: 0.6285\n",
      "Epoch 96/100\n",
      "327474/327474 [==============================] - 235s 719us/step - loss: 0.6467 - acc: 0.6314 - val_loss: 0.6474 - val_acc: 0.6284\n",
      "Epoch 97/100\n",
      "327474/327474 [==============================] - 239s 731us/step - loss: 0.6467 - acc: 0.6314 - val_loss: 0.6475 - val_acc: 0.6284\n",
      "Epoch 98/100\n",
      "327474/327474 [==============================] - 188s 573us/step - loss: 0.6466 - acc: 0.6314 - val_loss: 0.6476 - val_acc: 0.6284\n",
      "Epoch 99/100\n",
      "327474/327474 [==============================] - 196s 598us/step - loss: 0.6467 - acc: 0.6315 - val_loss: 0.6479 - val_acc: 0.6285\n",
      "Epoch 100/100\n",
      "327474/327474 [==============================] - 263s 802us/step - loss: 0.6467 - acc: 0.6314 - val_loss: 0.6480 - val_acc: 0.6285\n"
     ]
    }
   ],
   "source": [
    "history = model.fit(X_train, Y_train, validation_split=0.10,epochs=100,batch_size=8)"
   ]
  },
  {
   "cell_type": "code",
   "execution_count": 65,
   "metadata": {},
   "outputs": [],
   "source": [
    "score = model.evaluate(X_test, Y_test,verbose=0)\n",
    "\n"
   ]
  },
  {
   "cell_type": "code",
   "execution_count": 66,
   "metadata": {},
   "outputs": [
    {
     "name": "stdout",
     "output_type": "stream",
     "text": [
      "Test score: 0.6490898806081241\n",
      "Test accuracy: 0.6280392787444069\n"
     ]
    }
   ],
   "source": [
    "# Score after the RNN LSTM model used \n",
    "\n",
    "print('Test score:', score[0])\n",
    "print('Test accuracy:', score[1])"
   ]
  },
  {
   "cell_type": "code",
   "execution_count": 67,
   "metadata": {},
   "outputs": [
    {
     "name": "stdout",
     "output_type": "stream",
     "text": [
      "dict_keys(['val_loss', 'val_acc', 'loss', 'acc'])\n"
     ]
    }
   ],
   "source": [
    "print(history.history.keys())"
   ]
  },
  {
   "cell_type": "code",
   "execution_count": null,
   "metadata": {},
   "outputs": [],
   "source": []
  },
  {
   "cell_type": "code",
   "execution_count": 68,
   "metadata": {},
   "outputs": [
    {
     "data": {
      "image/png": "[encoded data removed]",
      "text/plain": [
       "<Figure size 432x288 with 1 Axes>"
      ]
     },
     "metadata": {},
     "output_type": "display_data"
    }
   ],
   "source": [
    "\n",
    "# summarize history for accuracy\n",
    "plt.plot(history.history['acc'])\n",
    "plt.plot(history.history['val_acc'])\n",
    "plt.title('model accuracy')\n",
    "plt.ylabel('accuracy')\n",
    "plt.xlabel('epoch')\n",
    "plt.legend(['train', 'test'], loc='upper left')\n",
    "plt.show()"
   ]
  },
  {
   "cell_type": "code",
   "execution_count": null,
   "metadata": {},
   "outputs": [],
   "source": []
  },
  {
   "cell_type": "code",
   "execution_count": 69,
   "metadata": {},
   "outputs": [
    {
     "data": {
      "image/png": "[encoded data removed]",
      "text/plain": [
       "<Figure size 432x288 with 1 Axes>"
      ]
     },
     "metadata": {},
     "output_type": "display_data"
    }
   ],
   "source": [
    "# summarize history for loss\n",
    "plt.plot(history.history['loss'])\n",
    "plt.plot(history.history['val_loss'])\n",
    "plt.title('model loss')\n",
    "plt.ylabel('loss')\n",
    "plt.xlabel('epoch')\n",
    "plt.legend(['train', 'test'], loc='upper left')\n",
    "plt.show()"
   ]
  },
  {
   "cell_type": "code",
   "execution_count": 70,
   "metadata": {},
   "outputs": [
    {
     "name": "stdout",
     "output_type": "stream",
     "text": [
      "First prediction: [[0.6258089  0.37419108]\n",
      " [0.6258089  0.37419108]\n",
      " [0.6258089  0.37419108]\n",
      " ...\n",
      " [0.6258089  0.37419108]\n",
      " [0.6258089  0.37419108]\n",
      " [0.6258089  0.37419105]]\n"
     ]
    }
   ],
   "source": [
    "predictions = model.predict(X_test)\n",
    "print('First prediction:', predictions)"
   ]
  },
  {
   "cell_type": "code",
   "execution_count": null,
   "metadata": {},
   "outputs": [],
   "source": []
  },
  {
   "cell_type": "code",
   "execution_count": null,
   "metadata": {},
   "outputs": [],
   "source": [
    "# KNN model []"
   ]
  },
  {
   "cell_type": "markdown",
   "metadata": {},
   "source": [
    "# Benchmark Model <font color= black>"
   ]
  },
  {
   "cell_type": "code",
   "execution_count": 25,
   "metadata": {},
   "outputs": [],
   "source": [
    "nsamples, nx, ny = X_train.shape\n",
    "X_train = X_train.reshape((nsamples,nx*ny))"
   ]
  },
  {
   "cell_type": "code",
   "execution_count": 26,
   "metadata": {},
   "outputs": [],
   "source": [
    "nsamples1, nx1, ny1 = X_test.shape\n",
    "X_test = X_test.reshape((nsamples1,nx1*ny1))\n"
   ]
  },
  {
   "cell_type": "code",
   "execution_count": 27,
   "metadata": {},
   "outputs": [],
   "source": [
    "from sklearn.preprocessing import StandardScaler  \n",
    "scaler = StandardScaler()  \n",
    "scaler.fit(X_train)\n",
    "\n",
    "X_train = scaler.transform(X_train)  \n",
    "X_test = scaler.transform(X_test)"
   ]
  },
  {
   "cell_type": "code",
   "execution_count": 28,
   "metadata": {},
   "outputs": [
    {
     "data": {
      "text/plain": [
       "KNeighborsClassifier(algorithm='auto', leaf_size=30, metric='minkowski',\n",
       "           metric_params=None, n_jobs=1, n_neighbors=2, p=2,\n",
       "           weights='uniform')"
      ]
     },
     "execution_count": 28,
     "metadata": {},
     "output_type": "execute_result"
    }
   ],
   "source": [
    "from sklearn.neighbors import KNeighborsClassifier  \n",
    "classifier = KNeighborsClassifier(n_neighbors=2)  \n",
    "classifier.fit(X_train, y_train)"
   ]
  },
  {
   "cell_type": "code",
   "execution_count": 29,
   "metadata": {},
   "outputs": [],
   "source": [
    "y_pred = classifier.predict(X_test)"
   ]
  },
  {
   "cell_type": "code",
   "execution_count": 30,
   "metadata": {},
   "outputs": [
    {
     "name": "stdout",
     "output_type": "stream",
     "text": [
      "[[25257   136]\n",
      " [14970    66]]\n",
      "             precision    recall  f1-score   support\n",
      "\n",
      "          0       0.63      0.99      0.77     25393\n",
      "          1       0.33      0.00      0.01     15036\n",
      "\n",
      "avg / total       0.52      0.63      0.49     40429\n",
      "\n"
     ]
    }
   ],
   "source": [
    "from sklearn.metrics import classification_report, confusion_matrix  \n",
    "print(confusion_matrix(y_test, y_pred))  \n",
    "print(classification_report(y_test, y_pred))"
   ]
  },
  {
   "cell_type": "code",
   "execution_count": 35,
   "metadata": {},
   "outputs": [
    {
     "name": "stdout",
     "output_type": "stream",
     "text": [
      "0.6263573177669495\n"
     ]
    }
   ],
   "source": [
    "from sklearn.metrics import accuracy_score\n",
    "print(accuracy_score(y_test,y_pred))"
   ]
  },
  {
   "cell_type": "code",
   "execution_count": null,
   "metadata": {},
   "outputs": [],
   "source": []
  }
 ],
 "metadata": {
  "kernelspec": {
   "display_name": "Python [default]",
   "language": "python",
   "name": "python3"
  },
  "language_info": {
   "codemirror_mode": {
    "name": "ipython",
    "version": 3
   },
   "file_extension": ".py",
   "mimetype": "text/x-python",
   "name": "python",
   "nbconvert_exporter": "python",
   "pygments_lexer": "ipython3",
   "version": "3.6.5"
  }
 },
 "nbformat": 4,
 "nbformat_minor": 2
}
