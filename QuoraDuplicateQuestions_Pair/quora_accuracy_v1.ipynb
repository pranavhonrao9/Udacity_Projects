{
 "cells": [
  {
   "cell_type": "code",
   "execution_count": 297,
   "metadata": {},
   "outputs": [
    {
     "data": {
      "text/html": [
       "<script>requirejs.config({paths: { 'plotly': ['https://cdn.plot.ly/plotly-latest.min']},});if(!window.Plotly) {{require(['plotly'],function(plotly) {window.Plotly=plotly;});}}</script>"
      ],
      "text/vnd.plotly.v1+html": [
       "<script>requirejs.config({paths: { 'plotly': ['https://cdn.plot.ly/plotly-latest.min']},});if(!window.Plotly) {{require(['plotly'],function(plotly) {window.Plotly=plotly;});}}</script>"
      ]
     },
     "metadata": {},
     "output_type": "display_data"
    }
   ],
   "source": [
    "import pandas as pd\n",
    "import numpy as np\n",
    "import matplotlib.pyplot as plt\n",
    "import plotly.plotly as py\n",
    "import plotly.graph_objs as go\n",
    "import plotly\n",
    "from plotly.offline import init_notebook_mode\n",
    "import plotly.graph_objs as go\n",
    "plotly.offline.init_notebook_mode(connected=True)"
   ]
  },
  {
   "cell_type": "code",
   "execution_count": 298,
   "metadata": {},
   "outputs": [],
   "source": [
    "training_df = pd.read_csv('~/train.csv', error_bad_lines=False)"
   ]
  },
  {
   "cell_type": "code",
   "execution_count": 299,
   "metadata": {},
   "outputs": [
    {
     "data": {
      "text/plain": [
       "(404290, 6)"
      ]
     },
     "execution_count": 299,
     "metadata": {},
     "output_type": "execute_result"
    }
   ],
   "source": [
    "training_df.shape"
   ]
  },
  {
   "cell_type": "code",
   "execution_count": 300,
   "metadata": {},
   "outputs": [
    {
     "name": "stderr",
     "output_type": "stream",
     "text": [
      "/Users/pranavhonrao/anaconda3/envs/py36/lib/python3.6/site-packages/IPython/core/interactiveshell.py:2785: DtypeWarning:\n",
      "\n",
      "Columns (0) have mixed types. Specify dtype option on import or set low_memory=False.\n",
      "\n"
     ]
    }
   ],
   "source": [
    "test_df = pd.read_csv('~/test.csv')"
   ]
  },
  {
   "cell_type": "code",
   "execution_count": 301,
   "metadata": {},
   "outputs": [
    {
     "data": {
      "text/plain": [
       "(3563475, 3)"
      ]
     },
     "execution_count": 301,
     "metadata": {},
     "output_type": "execute_result"
    }
   ],
   "source": [
    "test_df.shape"
   ]
  },
  {
   "cell_type": "code",
   "execution_count": 302,
   "metadata": {},
   "outputs": [
    {
     "name": "stdout",
     "output_type": "stream",
     "text": [
      "<class 'pandas.core.frame.DataFrame'>\n",
      "RangeIndex: 404290 entries, 0 to 404289\n",
      "Data columns (total 6 columns):\n",
      "id              404290 non-null int64\n",
      "qid1            404290 non-null int64\n",
      "qid2            404290 non-null int64\n",
      "question1       404289 non-null object\n",
      "question2       404288 non-null object\n",
      "is_duplicate    404290 non-null int64\n",
      "dtypes: int64(4), object(2)\n",
      "memory usage: 18.5+ MB\n"
     ]
    }
   ],
   "source": [
    "training_df.info()"
   ]
  },
  {
   "cell_type": "code",
   "execution_count": 303,
   "metadata": {},
   "outputs": [],
   "source": [
    "feature_df =training_df['is_duplicate']"
   ]
  },
  {
   "cell_type": "code",
   "execution_count": 304,
   "metadata": {},
   "outputs": [],
   "source": [
    "training_df =training_df.drop(columns=['is_duplicate'])"
   ]
  },
  {
   "cell_type": "code",
   "execution_count": 305,
   "metadata": {},
   "outputs": [],
   "source": [
    "training_error1 =training_df['question1']"
   ]
  },
  {
   "cell_type": "code",
   "execution_count": 306,
   "metadata": {},
   "outputs": [],
   "source": [
    "training_error2 =training_df['question2']"
   ]
  },
  {
   "cell_type": "code",
   "execution_count": 307,
   "metadata": {},
   "outputs": [],
   "source": [
    "#training_error1.head()"
   ]
  },
  {
   "cell_type": "code",
   "execution_count": 308,
   "metadata": {},
   "outputs": [],
   "source": [
    "#training_error2.head()"
   ]
  },
  {
   "cell_type": "code",
   "execution_count": 309,
   "metadata": {},
   "outputs": [],
   "source": [
    "questions_training_df = training_df[['question1','question2']]"
   ]
  },
  {
   "cell_type": "code",
   "execution_count": 310,
   "metadata": {},
   "outputs": [],
   "source": [
    "questions_test_df = test_df[['question1','question2']]"
   ]
  },
  {
   "cell_type": "code",
   "execution_count": 311,
   "metadata": {},
   "outputs": [],
   "source": [
    "temp_check = pd.concat([questions_training_df, questions_test_df])"
   ]
  },
  {
   "cell_type": "code",
   "execution_count": 312,
   "metadata": {},
   "outputs": [
    {
     "name": "stdout",
     "output_type": "stream",
     "text": [
      "[nltk_data] Downloading package stopwords to\n",
      "[nltk_data]     /Users/pranavhonrao/nltk_data...\n",
      "[nltk_data]   Package stopwords is already up-to-date!\n",
      "[nltk_data] Downloading package wordnet to\n",
      "[nltk_data]     /Users/pranavhonrao/nltk_data...\n",
      "[nltk_data]   Package wordnet is already up-to-date!\n"
     ]
    },
    {
     "data": {
      "text/plain": [
       "True"
      ]
     },
     "execution_count": 312,
     "metadata": {},
     "output_type": "execute_result"
    }
   ],
   "source": [
    "from nltk.corpus import stopwords\n",
    "from nltk.stem.porter import *\n",
    "import nltk\n",
    "nltk.download(\"stopwords\")\n",
    "nltk.download('wordnet')"
   ]
  },
  {
   "cell_type": "code",
   "execution_count": 313,
   "metadata": {},
   "outputs": [],
   "source": [
    "sw_dict={}\n",
    "    \n",
    "for i in stopwords.words('english'):\n",
    "    sw_dict[i]=1\n",
    "    \n",
    "\n"
   ]
  },
  {
   "cell_type": "code",
   "execution_count": 314,
   "metadata": {},
   "outputs": [],
   "source": [
    "import re\n",
    "from nltk.stem import WordNetLemmatizer\n",
    "#from nltk.stem import PorterStemmer\n",
    "from stemming.porter2 import stem\n",
    "\n",
    "lemi_words=[]\n",
    "stem_words=[]\n",
    "lmtzr = nltk.WordNetLemmatizer().lemmatize\n",
    "ps = PorterStemmer()\n",
    "\n",
    "\n",
    "\n",
    "def do_lemitise(word):\n",
    "    old_word=word\n",
    "    word = lmtzr(word)\n",
    "    if word != old_word:\n",
    "        lemi_words.append((old_word, word))\n",
    "        \n",
    "    return word\n",
    "    \n",
    "def do_stem(word):\n",
    "    old_word=word\n",
    "    word = stem(word)\n",
    "    if word != old_word:\n",
    "        stem_words.append((old_word, word))\n",
    "    return word\n",
    "        \n",
    "\n",
    "def do_process_word(word):\n",
    "    word = do_stem(word)\n",
    "    word = do_lemitise(word)\n",
    "    return word\n",
    "    \n",
    "    \n",
    "    \n",
    "\n",
    "def corpus_filteration(dfList):\n",
    "    \n",
    "    actual_list =[]\n",
    "    \n",
    "\n",
    "    \n",
    "    item_num=0\n",
    "\n",
    "    for k, v in dfList.iteritems():\n",
    "        questions_corpus = re.sub('[^a-zA-Z]',' ', str(v)).lower().split()\n",
    "        '''\n",
    "        for word in questions_corpus:\n",
    "            if word not in sw_dict.keys():\n",
    "                #old_word=word\n",
    "                word = lmtzr(word)\n",
    "                #if word != old_word:\n",
    "                    #lemi_words.append((old_word, word))\n",
    "                questions_corpus.append(word)\n",
    "        '''\n",
    "                \n",
    "                \n",
    "                \n",
    "            \n",
    "        questions_corpus = [do_process_word(word) for word in questions_corpus if word not in sw_dict.keys()]\n",
    "        \n",
    "        actual_list.append(questions_corpus)\n",
    "        item_num = item_num + 1\n",
    "        if (item_num%1000000 == 0):\n",
    "            print (\"Done so far {} \".format(item_num) )\n",
    "    \n",
    "    return actual_list           \n",
    "    \n",
    "    "
   ]
  },
  {
   "cell_type": "code",
   "execution_count": 315,
   "metadata": {},
   "outputs": [
    {
     "data": {
      "text/plain": [
       "0    What is the step by step guide to invest in sh...\n",
       "1    What is the story of Kohinoor (Koh-i-Noor) Dia...\n",
       "2    How can I increase the speed of my internet co...\n",
       "3    Why am I mentally very lonely? How can I solve...\n",
       "4    Which one dissolve in water quikly sugar, salt...\n",
       "Name: question1, dtype: object"
      ]
     },
     "execution_count": 315,
     "metadata": {},
     "output_type": "execute_result"
    }
   ],
   "source": [
    "training_error1.head()"
   ]
  },
  {
   "cell_type": "code",
   "execution_count": 316,
   "metadata": {},
   "outputs": [],
   "source": [
    "training_error1_cf = corpus_filteration(training_error1)"
   ]
  },
  {
   "cell_type": "code",
   "execution_count": 317,
   "metadata": {},
   "outputs": [],
   "source": [
    "#training_error1_cf[:10]"
   ]
  },
  {
   "cell_type": "code",
   "execution_count": 318,
   "metadata": {},
   "outputs": [],
   "source": [
    "#lemi_words[:60]"
   ]
  },
  {
   "cell_type": "code",
   "execution_count": 319,
   "metadata": {},
   "outputs": [],
   "source": [
    "#stem_words[:60]"
   ]
  },
  {
   "cell_type": "code",
   "execution_count": 320,
   "metadata": {},
   "outputs": [],
   "source": [
    "training_error2_cf = corpus_filteration(training_error2)"
   ]
  },
  {
   "cell_type": "code",
   "execution_count": 321,
   "metadata": {},
   "outputs": [],
   "source": [
    "temp_check_test_question1 = temp_check['question1']"
   ]
  },
  {
   "cell_type": "code",
   "execution_count": 322,
   "metadata": {},
   "outputs": [
    {
     "name": "stdout",
     "output_type": "stream",
     "text": [
      "Done so far 1000000 \n",
      "Done so far 2000000 \n",
      "Done so far 3000000 \n"
     ]
    }
   ],
   "source": [
    "test_question1_list1 = corpus_filteration(temp_check_test_question1)"
   ]
  },
  {
   "cell_type": "code",
   "execution_count": 323,
   "metadata": {},
   "outputs": [],
   "source": [
    "temp_check_test_question2 = temp_check['question2']"
   ]
  },
  {
   "cell_type": "code",
   "execution_count": 324,
   "metadata": {},
   "outputs": [
    {
     "name": "stdout",
     "output_type": "stream",
     "text": [
      "Done so far 1000000 \n",
      "Done so far 2000000 \n",
      "Done so far 3000000 \n"
     ]
    }
   ],
   "source": [
    "test_question2_list1 = corpus_filteration(temp_check_test_question2)"
   ]
  },
  {
   "cell_type": "code",
   "execution_count": 325,
   "metadata": {},
   "outputs": [],
   "source": [
    "#test_check_01 = test_question1_list1[:12]"
   ]
  },
  {
   "cell_type": "code",
   "execution_count": 326,
   "metadata": {},
   "outputs": [],
   "source": [
    "#test_check_01"
   ]
  },
  {
   "cell_type": "code",
   "execution_count": 327,
   "metadata": {},
   "outputs": [],
   "source": [
    "#test_check_02= test_question2_list1[:12]"
   ]
  },
  {
   "cell_type": "code",
   "execution_count": 328,
   "metadata": {},
   "outputs": [],
   "source": [
    "#test_check_02"
   ]
  },
  {
   "cell_type": "code",
   "execution_count": 329,
   "metadata": {},
   "outputs": [],
   "source": [
    "test_question_list= test_question1_list1 + test_question2_list1"
   ]
  },
  {
   "cell_type": "code",
   "execution_count": 330,
   "metadata": {},
   "outputs": [
    {
     "name": "stdout",
     "output_type": "stream",
     "text": [
      "Word2Vec(vocab=82404, size=200, alpha=0.025)\n"
     ]
    }
   ],
   "source": [
    "from gensim.models import Word2Vec\n",
    "model = Word2Vec(test_question_list, min_count=1,size=200)\n",
    "# summarize the loaded model\n",
    "print(model)\n",
    "# summarize vocabulary\n",
    "words = list(model.wv.vocab)\n",
    "#print(words)\n",
    "# access vector for one word\n",
    "#print(model['hack'])\n",
    "# save model\n",
    "model.save('model.bin')\n",
    "# load model\n",
    "#new_model = Word2Vec.load('model.bin')\n",
    "#print(new_model)"
   ]
  },
  {
   "cell_type": "code",
   "execution_count": 331,
   "metadata": {},
   "outputs": [
    {
     "name": "stdout",
     "output_type": "stream",
     "text": [
      "[ 0.30132636 -0.6309447   0.93614376  1.2811095   0.67750996  0.82636154\n",
      " -2.4087334   0.23484921 -2.0655363   0.5655505   0.3841865  -0.14926673\n",
      " -2.109347   -0.83460957  0.74853635  0.15402694 -0.46494913  0.5059631\n",
      "  0.09642255  0.7626299   1.9690708   3.0765297   0.81430185  1.2374572\n",
      " -0.25540632  2.4458158   4.793253    0.63186115  2.9247231   2.0464973\n",
      "  0.4413528  -0.08257546  1.4827652  -1.4334657  -0.61854    -0.4117297\n",
      "  0.6885372  -1.1330287   0.02036931  0.37144387  0.06664732  1.0636079\n",
      " -1.0591456  -0.19945252 -1.2210175  -0.3204671  -0.6283993   0.25376916\n",
      " -1.2020339  -1.4125633  -0.9949291  -2.4576762  -0.09945901  1.2800051\n",
      " -0.32511282  0.55027866  0.4548484   0.47893262  0.52120656  1.5080441\n",
      " -0.26302424 -0.33274108  1.2292767  -2.4053369   1.6666551   2.2257462\n",
      " -0.7802061  -0.29559225 -1.8927317   0.3880851   1.1275485   0.94772744\n",
      " -0.14966808 -0.16448808 -0.48619002  0.71558684  0.34972322 -0.26545164\n",
      "  1.0944723  -0.77510387 -0.59367836  2.6564078  -1.2579806   0.21128374\n",
      " -0.9177799   0.08976759 -0.8781516  -0.78085977 -0.15887734  0.72918177\n",
      " -1.8037716   0.3939675   0.53681207  2.8168957  -1.6116391  -1.9006585\n",
      "  0.8275052  -2.255485   -2.2195468  -0.7954864   0.5079029  -0.1542665\n",
      "  0.71467704  0.99161446 -0.79350585  0.9226998  -1.6575992   0.7587317\n",
      "  1.4543048  -0.9054192   0.13118044 -0.9992557  -0.35576594  0.6068563\n",
      "  0.59180456 -0.01234287 -0.08368123 -1.4835502   0.0082662   0.04217488\n",
      " -1.607294    0.7758292   1.0052738  -0.44537783  0.71314454  2.7048767\n",
      " -1.551543    0.02941388  1.5567449   0.83492893 -0.6247859   0.3167509\n",
      "  0.8410525  -0.02813502 -1.0679833   0.88144547  2.9831743  -1.329708\n",
      " -0.86222875 -0.28059113 -0.18013617 -0.58616185  0.31545088 -0.57966864\n",
      " -1.3421204   1.6337975  -0.18980278  0.12621377 -0.06313081 -0.78980947\n",
      " -0.3340471  -0.22766303 -0.89354956  1.0953637   0.5015254   1.1950039\n",
      "  0.3379832   0.5513626  -1.1090258  -0.10413589  2.7630944   0.8746603\n",
      " -1.3717983  -0.75930446  0.15810533 -0.10257918  1.1744775   0.5620488\n",
      "  0.22139707  0.4749562  -0.34256288 -2.0204778   0.98122853  0.21083629\n",
      "  0.39869663 -0.67198354  0.18942422  2.1325452   1.8553632  -0.41543683\n",
      "  1.0665934  -0.9941316  -0.41937643 -1.5199325   0.7023335  -1.2028852\n",
      "  0.66483855 -1.5444016   0.6457307  -0.6961282   1.1169145   2.011967\n",
      "  1.2600261   0.41408     1.1999216  -2.1940832   1.2813841  -1.1680591\n",
      "  0.55486244 -1.529623  ]\n"
     ]
    },
    {
     "name": "stderr",
     "output_type": "stream",
     "text": [
      "/Users/pranavhonrao/anaconda3/envs/py36/lib/python3.6/site-packages/ipykernel_launcher.py:1: DeprecationWarning:\n",
      "\n",
      "Call to deprecated `__getitem__` (Method will be removed in 4.0.0, use self.wv.__getitem__() instead).\n",
      "\n"
     ]
    }
   ],
   "source": [
    "print(model['step'])"
   ]
  },
  {
   "cell_type": "code",
   "execution_count": 332,
   "metadata": {},
   "outputs": [],
   "source": [
    "\n",
    "from gensim.models import Word2Vec\n",
    "from gensim.models import KeyedVectors\n",
    "#filename = 'GoogleNews-vectors-negative300.bin'\n",
    "#import pyemd\n",
    "#word2vec_model = Word2Vec.load(filename)\n",
    "word2vec_model = KeyedVectors.load('model.bin')\n",
    "word2vec_model.init_sims(replace=True)\n"
   ]
  },
  {
   "cell_type": "code",
   "execution_count": 333,
   "metadata": {},
   "outputs": [
    {
     "data": {
      "text/plain": [
       "\"\\nfrom gensim.scripts.glove2word2vec import glove2word2vec\\nfrom gensim.models import KeyedVectors\\nglove_input_file = 'glove.6B.100d.txt'\\nword2vec_output_file = 'glove.6B.100d.txt.word2vec'\\nglove2word2vec(glove_input_file, word2vec_output_file)\\nfilename = 'glove.6B.100d.txt.word2vec'\\nmodel = KeyedVectors.load_word2vec_format(filename, binary=False)\\nmodel.init_sims(replace=True)\\n\""
      ]
     },
     "execution_count": 333,
     "metadata": {},
     "output_type": "execute_result"
    }
   ],
   "source": [
    "'''\n",
    "from gensim.scripts.glove2word2vec import glove2word2vec\n",
    "from gensim.models import KeyedVectors\n",
    "glove_input_file = 'glove.6B.100d.txt'\n",
    "word2vec_output_file = 'glove.6B.100d.txt.word2vec'\n",
    "glove2word2vec(glove_input_file, word2vec_output_file)\n",
    "filename = 'glove.6B.100d.txt.word2vec'\n",
    "model = KeyedVectors.load_word2vec_format(filename, binary=False)\n",
    "model.init_sims(replace=True)\n",
    "'''\n",
    "    \n",
    "   \n"
   ]
  },
  {
   "cell_type": "code",
   "execution_count": 334,
   "metadata": {},
   "outputs": [
    {
     "data": {
      "text/plain": [
       "\"\\nfilename = 'glove.6B.100d.txt.word2vec'\\nmodel = KeyedVectors.load_word2vec_format(filename, binary=False)\\nmodel.init_sims(replace=True)\\n\""
      ]
     },
     "execution_count": 334,
     "metadata": {},
     "output_type": "execute_result"
    }
   ],
   "source": [
    "'''\n",
    "filename = 'glove.6B.100d.txt.word2vec'\n",
    "model = KeyedVectors.load_word2vec_format(filename, binary=False)\n",
    "model.init_sims(replace=True)\n",
    "'''\n"
   ]
  },
  {
   "cell_type": "code",
   "execution_count": null,
   "metadata": {},
   "outputs": [],
   "source": []
  },
  {
   "cell_type": "code",
   "execution_count": 335,
   "metadata": {},
   "outputs": [],
   "source": [
    "from pyemd import emd\n",
    "def distance_calculation(d1,d2):\n",
    "        i=j=0\n",
    "        distance_list=[]\n",
    "        len_train_01 =len(d1)\n",
    "        len_train_02 =len(d2)\n",
    "        item_num=0\n",
    "        \n",
    "        \n",
    "        while (i<len_train_01 and j<len_train_02):\n",
    "            distance_questions = word2vec_model.wv.wmdistance(d1[i], d2[j])\n",
    "            #f.write(str(distance_questions))\n",
    "            distance_list.append(distance_questions)\n",
    "            i=i+1\n",
    "            j=j+1\n",
    "            item_num = item_num + 1\n",
    "            if (item_num%100000 == 0):\n",
    "                print (\"Done so far {} \".format(item_num) )\n",
    "        \n",
    "        training_df['is_duplicate_01']=distance_list\n",
    "        return training_df\n",
    "        #return distance_list"
   ]
  },
  {
   "cell_type": "code",
   "execution_count": 336,
   "metadata": {
    "scrolled": false
   },
   "outputs": [
    {
     "name": "stdout",
     "output_type": "stream",
     "text": [
      "Done so far 100000 \n",
      "Done so far 200000 \n",
      "Done so far 300000 \n",
      "Done so far 400000 \n"
     ]
    },
    {
     "data": {
      "text/html": [
       "<div>\n",
       "<style scoped>\n",
       "    .dataframe tbody tr th:only-of-type {\n",
       "        vertical-align: middle;\n",
       "    }\n",
       "\n",
       "    .dataframe tbody tr th {\n",
       "        vertical-align: top;\n",
       "    }\n",
       "\n",
       "    .dataframe thead th {\n",
       "        text-align: right;\n",
       "    }\n",
       "</style>\n",
       "<table border=\"1\" class=\"dataframe\">\n",
       "  <thead>\n",
       "    <tr style=\"text-align: right;\">\n",
       "      <th></th>\n",
       "      <th>id</th>\n",
       "      <th>qid1</th>\n",
       "      <th>qid2</th>\n",
       "      <th>question1</th>\n",
       "      <th>question2</th>\n",
       "      <th>is_duplicate_01</th>\n",
       "    </tr>\n",
       "  </thead>\n",
       "  <tbody>\n",
       "    <tr>\n",
       "      <th>0</th>\n",
       "      <td>0</td>\n",
       "      <td>1</td>\n",
       "      <td>2</td>\n",
       "      <td>What is the step by step guide to invest in sh...</td>\n",
       "      <td>What is the step by step guide to invest in sh...</td>\n",
       "      <td>0.189051</td>\n",
       "    </tr>\n",
       "    <tr>\n",
       "      <th>1</th>\n",
       "      <td>1</td>\n",
       "      <td>3</td>\n",
       "      <td>4</td>\n",
       "      <td>What is the story of Kohinoor (Koh-i-Noor) Dia...</td>\n",
       "      <td>What would happen if the Indian government sto...</td>\n",
       "      <td>0.813153</td>\n",
       "    </tr>\n",
       "    <tr>\n",
       "      <th>2</th>\n",
       "      <td>2</td>\n",
       "      <td>5</td>\n",
       "      <td>6</td>\n",
       "      <td>How can I increase the speed of my internet co...</td>\n",
       "      <td>How can Internet speed be increased by hacking...</td>\n",
       "      <td>0.604027</td>\n",
       "    </tr>\n",
       "    <tr>\n",
       "      <th>3</th>\n",
       "      <td>3</td>\n",
       "      <td>7</td>\n",
       "      <td>8</td>\n",
       "      <td>Why am I mentally very lonely? How can I solve...</td>\n",
       "      <td>Find the remainder when [math]23^{24}[/math] i...</td>\n",
       "      <td>1.342431</td>\n",
       "    </tr>\n",
       "    <tr>\n",
       "      <th>4</th>\n",
       "      <td>4</td>\n",
       "      <td>9</td>\n",
       "      <td>10</td>\n",
       "      <td>Which one dissolve in water quikly sugar, salt...</td>\n",
       "      <td>Which fish would survive in salt water?</td>\n",
       "      <td>1.009624</td>\n",
       "    </tr>\n",
       "    <tr>\n",
       "      <th>5</th>\n",
       "      <td>5</td>\n",
       "      <td>11</td>\n",
       "      <td>12</td>\n",
       "      <td>Astrology: I am a Capricorn Sun Cap moon and c...</td>\n",
       "      <td>I'm a triple Capricorn (Sun, Moon and ascendan...</td>\n",
       "      <td>0.648784</td>\n",
       "    </tr>\n",
       "    <tr>\n",
       "      <th>6</th>\n",
       "      <td>6</td>\n",
       "      <td>13</td>\n",
       "      <td>14</td>\n",
       "      <td>Should I buy tiago?</td>\n",
       "      <td>What keeps childern active and far from phone ...</td>\n",
       "      <td>1.398554</td>\n",
       "    </tr>\n",
       "    <tr>\n",
       "      <th>7</th>\n",
       "      <td>7</td>\n",
       "      <td>15</td>\n",
       "      <td>16</td>\n",
       "      <td>How can I be a good geologist?</td>\n",
       "      <td>What should I do to be a great geologist?</td>\n",
       "      <td>0.475765</td>\n",
       "    </tr>\n",
       "    <tr>\n",
       "      <th>8</th>\n",
       "      <td>8</td>\n",
       "      <td>17</td>\n",
       "      <td>18</td>\n",
       "      <td>When do you use シ instead of し?</td>\n",
       "      <td>When do you use \"&amp;\" instead of \"and\"?</td>\n",
       "      <td>0.000000</td>\n",
       "    </tr>\n",
       "    <tr>\n",
       "      <th>9</th>\n",
       "      <td>9</td>\n",
       "      <td>19</td>\n",
       "      <td>20</td>\n",
       "      <td>Motorola (company): Can I hack my Charter Moto...</td>\n",
       "      <td>How do I hack Motorola DCX3400 for free internet?</td>\n",
       "      <td>0.644349</td>\n",
       "    </tr>\n",
       "    <tr>\n",
       "      <th>10</th>\n",
       "      <td>10</td>\n",
       "      <td>21</td>\n",
       "      <td>22</td>\n",
       "      <td>Method to find separation of slits using fresn...</td>\n",
       "      <td>What are some of the things technicians can te...</td>\n",
       "      <td>1.306359</td>\n",
       "    </tr>\n",
       "    <tr>\n",
       "      <th>11</th>\n",
       "      <td>11</td>\n",
       "      <td>23</td>\n",
       "      <td>24</td>\n",
       "      <td>How do I read and find my YouTube comments?</td>\n",
       "      <td>How can I see all my Youtube comments?</td>\n",
       "      <td>0.601120</td>\n",
       "    </tr>\n",
       "    <tr>\n",
       "      <th>12</th>\n",
       "      <td>12</td>\n",
       "      <td>25</td>\n",
       "      <td>26</td>\n",
       "      <td>What can make Physics easy to learn?</td>\n",
       "      <td>How can you make physics easy to learn?</td>\n",
       "      <td>0.000000</td>\n",
       "    </tr>\n",
       "    <tr>\n",
       "      <th>13</th>\n",
       "      <td>13</td>\n",
       "      <td>27</td>\n",
       "      <td>28</td>\n",
       "      <td>What was your first sexual experience like?</td>\n",
       "      <td>What was your first sexual experience?</td>\n",
       "      <td>0.333424</td>\n",
       "    </tr>\n",
       "    <tr>\n",
       "      <th>14</th>\n",
       "      <td>14</td>\n",
       "      <td>29</td>\n",
       "      <td>30</td>\n",
       "      <td>What are the laws to change your status from a...</td>\n",
       "      <td>What are the laws to change your status from a...</td>\n",
       "      <td>0.093601</td>\n",
       "    </tr>\n",
       "    <tr>\n",
       "      <th>15</th>\n",
       "      <td>15</td>\n",
       "      <td>31</td>\n",
       "      <td>32</td>\n",
       "      <td>What would a Trump presidency mean for current...</td>\n",
       "      <td>How will a Trump presidency affect the student...</td>\n",
       "      <td>0.865894</td>\n",
       "    </tr>\n",
       "    <tr>\n",
       "      <th>16</th>\n",
       "      <td>16</td>\n",
       "      <td>33</td>\n",
       "      <td>34</td>\n",
       "      <td>What does manipulation mean?</td>\n",
       "      <td>What does manipulation means?</td>\n",
       "      <td>0.000000</td>\n",
       "    </tr>\n",
       "    <tr>\n",
       "      <th>17</th>\n",
       "      <td>17</td>\n",
       "      <td>35</td>\n",
       "      <td>36</td>\n",
       "      <td>Why do girls want to be friends with the guy t...</td>\n",
       "      <td>How do guys feel after rejecting a girl?</td>\n",
       "      <td>0.450130</td>\n",
       "    </tr>\n",
       "    <tr>\n",
       "      <th>18</th>\n",
       "      <td>18</td>\n",
       "      <td>37</td>\n",
       "      <td>38</td>\n",
       "      <td>Why are so many Quora users posting questions ...</td>\n",
       "      <td>Why do people ask Quora questions which can be...</td>\n",
       "      <td>0.622599</td>\n",
       "    </tr>\n",
       "    <tr>\n",
       "      <th>19</th>\n",
       "      <td>19</td>\n",
       "      <td>39</td>\n",
       "      <td>40</td>\n",
       "      <td>Which is the best digital marketing institutio...</td>\n",
       "      <td>Which is the best digital marketing institute ...</td>\n",
       "      <td>0.184825</td>\n",
       "    </tr>\n",
       "    <tr>\n",
       "      <th>20</th>\n",
       "      <td>20</td>\n",
       "      <td>41</td>\n",
       "      <td>42</td>\n",
       "      <td>Why do rockets look white?</td>\n",
       "      <td>Why are rockets and boosters painted white?</td>\n",
       "      <td>0.679761</td>\n",
       "    </tr>\n",
       "    <tr>\n",
       "      <th>21</th>\n",
       "      <td>21</td>\n",
       "      <td>43</td>\n",
       "      <td>44</td>\n",
       "      <td>What's causing someone to be jealous?</td>\n",
       "      <td>What can I do to avoid being jealous of someone?</td>\n",
       "      <td>0.355347</td>\n",
       "    </tr>\n",
       "    <tr>\n",
       "      <th>22</th>\n",
       "      <td>22</td>\n",
       "      <td>45</td>\n",
       "      <td>46</td>\n",
       "      <td>What are the questions should not ask on Quora?</td>\n",
       "      <td>Which question should I ask on Quora?</td>\n",
       "      <td>0.000000</td>\n",
       "    </tr>\n",
       "    <tr>\n",
       "      <th>23</th>\n",
       "      <td>23</td>\n",
       "      <td>47</td>\n",
       "      <td>48</td>\n",
       "      <td>How much is 30 kV in HP?</td>\n",
       "      <td>Where can I find a conversion chart for CC to ...</td>\n",
       "      <td>1.326947</td>\n",
       "    </tr>\n",
       "    <tr>\n",
       "      <th>24</th>\n",
       "      <td>24</td>\n",
       "      <td>49</td>\n",
       "      <td>50</td>\n",
       "      <td>What does it mean that every time I look at th...</td>\n",
       "      <td>How many times a day do a clock’s hands overlap?</td>\n",
       "      <td>0.853492</td>\n",
       "    </tr>\n",
       "    <tr>\n",
       "      <th>25</th>\n",
       "      <td>25</td>\n",
       "      <td>51</td>\n",
       "      <td>52</td>\n",
       "      <td>What are some tips on making it through the jo...</td>\n",
       "      <td>What are some tips on making it through the jo...</td>\n",
       "      <td>0.202122</td>\n",
       "    </tr>\n",
       "    <tr>\n",
       "      <th>26</th>\n",
       "      <td>26</td>\n",
       "      <td>53</td>\n",
       "      <td>54</td>\n",
       "      <td>What is web application?</td>\n",
       "      <td>What is the web application framework?</td>\n",
       "      <td>0.380551</td>\n",
       "    </tr>\n",
       "    <tr>\n",
       "      <th>27</th>\n",
       "      <td>27</td>\n",
       "      <td>55</td>\n",
       "      <td>56</td>\n",
       "      <td>Does society place too much importance on sports?</td>\n",
       "      <td>How do sports contribute to the society?</td>\n",
       "      <td>0.811436</td>\n",
       "    </tr>\n",
       "    <tr>\n",
       "      <th>28</th>\n",
       "      <td>28</td>\n",
       "      <td>57</td>\n",
       "      <td>58</td>\n",
       "      <td>What is best way to make money online?</td>\n",
       "      <td>What is best way to ask for money online?</td>\n",
       "      <td>0.246801</td>\n",
       "    </tr>\n",
       "    <tr>\n",
       "      <th>29</th>\n",
       "      <td>29</td>\n",
       "      <td>59</td>\n",
       "      <td>60</td>\n",
       "      <td>How should I prepare for CA final law?</td>\n",
       "      <td>How one should know that he/she completely pre...</td>\n",
       "      <td>0.723808</td>\n",
       "    </tr>\n",
       "    <tr>\n",
       "      <th>...</th>\n",
       "      <td>...</td>\n",
       "      <td>...</td>\n",
       "      <td>...</td>\n",
       "      <td>...</td>\n",
       "      <td>...</td>\n",
       "      <td>...</td>\n",
       "    </tr>\n",
       "    <tr>\n",
       "      <th>404260</th>\n",
       "      <td>404260</td>\n",
       "      <td>182494</td>\n",
       "      <td>691</td>\n",
       "      <td>Which phone is best under 12000?</td>\n",
       "      <td>What is the best phone to buy below 15k?</td>\n",
       "      <td>0.643810</td>\n",
       "    </tr>\n",
       "    <tr>\n",
       "      <th>404261</th>\n",
       "      <td>404261</td>\n",
       "      <td>281150</td>\n",
       "      <td>124172</td>\n",
       "      <td>Who is the overall most popular Game of Throne...</td>\n",
       "      <td>Who is the most popular character in the Game ...</td>\n",
       "      <td>0.292388</td>\n",
       "    </tr>\n",
       "    <tr>\n",
       "      <th>404262</th>\n",
       "      <td>404262</td>\n",
       "      <td>537905</td>\n",
       "      <td>466328</td>\n",
       "      <td>How do you troubleshoot a Toshiba laptop?</td>\n",
       "      <td>How do I reset a Toshiba laptop?</td>\n",
       "      <td>0.395729</td>\n",
       "    </tr>\n",
       "    <tr>\n",
       "      <th>404263</th>\n",
       "      <td>404263</td>\n",
       "      <td>375195</td>\n",
       "      <td>537906</td>\n",
       "      <td>How does the burning of fossil fuels contribut...</td>\n",
       "      <td>Why does CO2 contribute more to global warming...</td>\n",
       "      <td>0.623182</td>\n",
       "    </tr>\n",
       "    <tr>\n",
       "      <th>404264</th>\n",
       "      <td>404264</td>\n",
       "      <td>537907</td>\n",
       "      <td>537908</td>\n",
       "      <td>Is it safe to store an external battery power ...</td>\n",
       "      <td>How do I make a safe and cheap power bank?</td>\n",
       "      <td>0.862761</td>\n",
       "    </tr>\n",
       "    <tr>\n",
       "      <th>404265</th>\n",
       "      <td>404265</td>\n",
       "      <td>25994</td>\n",
       "      <td>16064</td>\n",
       "      <td>How can I gain weight on my body?</td>\n",
       "      <td>What should I eat to gain weight?</td>\n",
       "      <td>0.412130</td>\n",
       "    </tr>\n",
       "    <tr>\n",
       "      <th>404266</th>\n",
       "      <td>404266</td>\n",
       "      <td>155813</td>\n",
       "      <td>146284</td>\n",
       "      <td>What is the green dot next to the phone icon o...</td>\n",
       "      <td>My boyfriend says he deleted his Facebook Mess...</td>\n",
       "      <td>1.038697</td>\n",
       "    </tr>\n",
       "    <tr>\n",
       "      <th>404267</th>\n",
       "      <td>404267</td>\n",
       "      <td>20171</td>\n",
       "      <td>290649</td>\n",
       "      <td>What are the causes of the fall of the Roman E...</td>\n",
       "      <td>What were the most important causes and effect...</td>\n",
       "      <td>0.447770</td>\n",
       "    </tr>\n",
       "    <tr>\n",
       "      <th>404268</th>\n",
       "      <td>404268</td>\n",
       "      <td>537909</td>\n",
       "      <td>537910</td>\n",
       "      <td>Why don't we still do great music like in the ...</td>\n",
       "      <td>Should I raise my young child on 80's music?</td>\n",
       "      <td>0.983706</td>\n",
       "    </tr>\n",
       "    <tr>\n",
       "      <th>404269</th>\n",
       "      <td>404269</td>\n",
       "      <td>537911</td>\n",
       "      <td>349794</td>\n",
       "      <td>How do you diagnose antisocial personality dis...</td>\n",
       "      <td>What Does It Feel Like to have antisocial pers...</td>\n",
       "      <td>0.514172</td>\n",
       "    </tr>\n",
       "    <tr>\n",
       "      <th>404270</th>\n",
       "      <td>404270</td>\n",
       "      <td>537912</td>\n",
       "      <td>35364</td>\n",
       "      <td>What is the difference between who and how?</td>\n",
       "      <td>What is the difference between \"&amp;\" and \"and\"?</td>\n",
       "      <td>0.000000</td>\n",
       "    </tr>\n",
       "    <tr>\n",
       "      <th>404271</th>\n",
       "      <td>404271</td>\n",
       "      <td>537913</td>\n",
       "      <td>537914</td>\n",
       "      <td>Does Stalin have any grandchildren that are st...</td>\n",
       "      <td>What was Joseph Stalin's 5 year plan? How did ...</td>\n",
       "      <td>0.876476</td>\n",
       "    </tr>\n",
       "    <tr>\n",
       "      <th>404272</th>\n",
       "      <td>404272</td>\n",
       "      <td>128018</td>\n",
       "      <td>14005</td>\n",
       "      <td>What are the best new car products or inventio...</td>\n",
       "      <td>What are some mind-blowing vehicles tools that...</td>\n",
       "      <td>0.832227</td>\n",
       "    </tr>\n",
       "    <tr>\n",
       "      <th>404273</th>\n",
       "      <td>404273</td>\n",
       "      <td>537915</td>\n",
       "      <td>537916</td>\n",
       "      <td>What happens if you put milk in a coffee maker?</td>\n",
       "      <td>What would happen if I put milk instead of wat...</td>\n",
       "      <td>0.613201</td>\n",
       "    </tr>\n",
       "    <tr>\n",
       "      <th>404274</th>\n",
       "      <td>404274</td>\n",
       "      <td>178643</td>\n",
       "      <td>87385</td>\n",
       "      <td>Will the next generation of parenting change o...</td>\n",
       "      <td>What kind of parents will the next generation ...</td>\n",
       "      <td>0.542018</td>\n",
       "    </tr>\n",
       "    <tr>\n",
       "      <th>404275</th>\n",
       "      <td>404275</td>\n",
       "      <td>97922</td>\n",
       "      <td>537917</td>\n",
       "      <td>In accounting, why do we debit expenses and cr...</td>\n",
       "      <td>What is a utilities expense in accounting? How...</td>\n",
       "      <td>0.781198</td>\n",
       "    </tr>\n",
       "    <tr>\n",
       "      <th>404276</th>\n",
       "      <td>404276</td>\n",
       "      <td>24305</td>\n",
       "      <td>308365</td>\n",
       "      <td>What is copilotsearch.com?</td>\n",
       "      <td>What is ContenVania.com?</td>\n",
       "      <td>0.219589</td>\n",
       "    </tr>\n",
       "    <tr>\n",
       "      <th>404277</th>\n",
       "      <td>404277</td>\n",
       "      <td>355668</td>\n",
       "      <td>537918</td>\n",
       "      <td>What does analytics do?</td>\n",
       "      <td>What are analytical people like?</td>\n",
       "      <td>0.964989</td>\n",
       "    </tr>\n",
       "    <tr>\n",
       "      <th>404278</th>\n",
       "      <td>404278</td>\n",
       "      <td>537919</td>\n",
       "      <td>169786</td>\n",
       "      <td>How did you prepare for AIIMS/NEET/AIPMT?</td>\n",
       "      <td>How did you prepare for the AIIMS UG entrance ...</td>\n",
       "      <td>0.626370</td>\n",
       "    </tr>\n",
       "    <tr>\n",
       "      <th>404279</th>\n",
       "      <td>404279</td>\n",
       "      <td>537920</td>\n",
       "      <td>537921</td>\n",
       "      <td>What is the minimum time required to build a f...</td>\n",
       "      <td>What is a cheaper and quicker way to build an ...</td>\n",
       "      <td>0.892836</td>\n",
       "    </tr>\n",
       "    <tr>\n",
       "      <th>404280</th>\n",
       "      <td>404280</td>\n",
       "      <td>537922</td>\n",
       "      <td>537923</td>\n",
       "      <td>What are some outfit ideas to wear to a frat p...</td>\n",
       "      <td>What are some outfit ideas wear to a frat them...</td>\n",
       "      <td>0.216865</td>\n",
       "    </tr>\n",
       "    <tr>\n",
       "      <th>404281</th>\n",
       "      <td>404281</td>\n",
       "      <td>99131</td>\n",
       "      <td>81495</td>\n",
       "      <td>Why is Manaphy childish in Pokémon Ranger and ...</td>\n",
       "      <td>Why is Manaphy annoying in Pokemon ranger and ...</td>\n",
       "      <td>0.447218</td>\n",
       "    </tr>\n",
       "    <tr>\n",
       "      <th>404282</th>\n",
       "      <td>404282</td>\n",
       "      <td>1931</td>\n",
       "      <td>16773</td>\n",
       "      <td>How does a long distance relationship work?</td>\n",
       "      <td>How are long distance relationships maintained?</td>\n",
       "      <td>0.322753</td>\n",
       "    </tr>\n",
       "    <tr>\n",
       "      <th>404283</th>\n",
       "      <td>404283</td>\n",
       "      <td>537924</td>\n",
       "      <td>537925</td>\n",
       "      <td>What do you think of the removal of the MagSaf...</td>\n",
       "      <td>What will the CPU upgrade to the 2016 Apple Ma...</td>\n",
       "      <td>0.727983</td>\n",
       "    </tr>\n",
       "    <tr>\n",
       "      <th>404284</th>\n",
       "      <td>404284</td>\n",
       "      <td>537926</td>\n",
       "      <td>537927</td>\n",
       "      <td>What does Jainism say about homosexuality?</td>\n",
       "      <td>What does Jainism say about Gays and Homosexua...</td>\n",
       "      <td>0.294020</td>\n",
       "    </tr>\n",
       "    <tr>\n",
       "      <th>404285</th>\n",
       "      <td>404285</td>\n",
       "      <td>433578</td>\n",
       "      <td>379845</td>\n",
       "      <td>How many keywords are there in the Racket prog...</td>\n",
       "      <td>How many keywords are there in PERL Programmin...</td>\n",
       "      <td>0.190394</td>\n",
       "    </tr>\n",
       "    <tr>\n",
       "      <th>404286</th>\n",
       "      <td>404286</td>\n",
       "      <td>18840</td>\n",
       "      <td>155606</td>\n",
       "      <td>Do you believe there is life after death?</td>\n",
       "      <td>Is it true that there is life after death?</td>\n",
       "      <td>0.331653</td>\n",
       "    </tr>\n",
       "    <tr>\n",
       "      <th>404287</th>\n",
       "      <td>404287</td>\n",
       "      <td>537928</td>\n",
       "      <td>537929</td>\n",
       "      <td>What is one coin?</td>\n",
       "      <td>What's this coin?</td>\n",
       "      <td>0.657207</td>\n",
       "    </tr>\n",
       "    <tr>\n",
       "      <th>404288</th>\n",
       "      <td>404288</td>\n",
       "      <td>537930</td>\n",
       "      <td>537931</td>\n",
       "      <td>What is the approx annual cost of living while...</td>\n",
       "      <td>I am having little hairfall problem but I want...</td>\n",
       "      <td>1.348465</td>\n",
       "    </tr>\n",
       "    <tr>\n",
       "      <th>404289</th>\n",
       "      <td>404289</td>\n",
       "      <td>537932</td>\n",
       "      <td>537933</td>\n",
       "      <td>What is like to have sex with cousin?</td>\n",
       "      <td>What is it like to have sex with your cousin?</td>\n",
       "      <td>0.000000</td>\n",
       "    </tr>\n",
       "  </tbody>\n",
       "</table>\n",
       "<p>404290 rows × 6 columns</p>\n",
       "</div>"
      ],
      "text/plain": [
       "            id    qid1    qid2  \\\n",
       "0            0       1       2   \n",
       "1            1       3       4   \n",
       "2            2       5       6   \n",
       "3            3       7       8   \n",
       "4            4       9      10   \n",
       "5            5      11      12   \n",
       "6            6      13      14   \n",
       "7            7      15      16   \n",
       "8            8      17      18   \n",
       "9            9      19      20   \n",
       "10          10      21      22   \n",
       "11          11      23      24   \n",
       "12          12      25      26   \n",
       "13          13      27      28   \n",
       "14          14      29      30   \n",
       "15          15      31      32   \n",
       "16          16      33      34   \n",
       "17          17      35      36   \n",
       "18          18      37      38   \n",
       "19          19      39      40   \n",
       "20          20      41      42   \n",
       "21          21      43      44   \n",
       "22          22      45      46   \n",
       "23          23      47      48   \n",
       "24          24      49      50   \n",
       "25          25      51      52   \n",
       "26          26      53      54   \n",
       "27          27      55      56   \n",
       "28          28      57      58   \n",
       "29          29      59      60   \n",
       "...        ...     ...     ...   \n",
       "404260  404260  182494     691   \n",
       "404261  404261  281150  124172   \n",
       "404262  404262  537905  466328   \n",
       "404263  404263  375195  537906   \n",
       "404264  404264  537907  537908   \n",
       "404265  404265   25994   16064   \n",
       "404266  404266  155813  146284   \n",
       "404267  404267   20171  290649   \n",
       "404268  404268  537909  537910   \n",
       "404269  404269  537911  349794   \n",
       "404270  404270  537912   35364   \n",
       "404271  404271  537913  537914   \n",
       "404272  404272  128018   14005   \n",
       "404273  404273  537915  537916   \n",
       "404274  404274  178643   87385   \n",
       "404275  404275   97922  537917   \n",
       "404276  404276   24305  308365   \n",
       "404277  404277  355668  537918   \n",
       "404278  404278  537919  169786   \n",
       "404279  404279  537920  537921   \n",
       "404280  404280  537922  537923   \n",
       "404281  404281   99131   81495   \n",
       "404282  404282    1931   16773   \n",
       "404283  404283  537924  537925   \n",
       "404284  404284  537926  537927   \n",
       "404285  404285  433578  379845   \n",
       "404286  404286   18840  155606   \n",
       "404287  404287  537928  537929   \n",
       "404288  404288  537930  537931   \n",
       "404289  404289  537932  537933   \n",
       "\n",
       "                                                question1  \\\n",
       "0       What is the step by step guide to invest in sh...   \n",
       "1       What is the story of Kohinoor (Koh-i-Noor) Dia...   \n",
       "2       How can I increase the speed of my internet co...   \n",
       "3       Why am I mentally very lonely? How can I solve...   \n",
       "4       Which one dissolve in water quikly sugar, salt...   \n",
       "5       Astrology: I am a Capricorn Sun Cap moon and c...   \n",
       "6                                     Should I buy tiago?   \n",
       "7                          How can I be a good geologist?   \n",
       "8                         When do you use シ instead of し?   \n",
       "9       Motorola (company): Can I hack my Charter Moto...   \n",
       "10      Method to find separation of slits using fresn...   \n",
       "11            How do I read and find my YouTube comments?   \n",
       "12                   What can make Physics easy to learn?   \n",
       "13            What was your first sexual experience like?   \n",
       "14      What are the laws to change your status from a...   \n",
       "15      What would a Trump presidency mean for current...   \n",
       "16                           What does manipulation mean?   \n",
       "17      Why do girls want to be friends with the guy t...   \n",
       "18      Why are so many Quora users posting questions ...   \n",
       "19      Which is the best digital marketing institutio...   \n",
       "20                             Why do rockets look white?   \n",
       "21                  What's causing someone to be jealous?   \n",
       "22        What are the questions should not ask on Quora?   \n",
       "23                               How much is 30 kV in HP?   \n",
       "24      What does it mean that every time I look at th...   \n",
       "25      What are some tips on making it through the jo...   \n",
       "26                               What is web application?   \n",
       "27      Does society place too much importance on sports?   \n",
       "28                 What is best way to make money online?   \n",
       "29                 How should I prepare for CA final law?   \n",
       "...                                                   ...   \n",
       "404260                   Which phone is best under 12000?   \n",
       "404261  Who is the overall most popular Game of Throne...   \n",
       "404262          How do you troubleshoot a Toshiba laptop?   \n",
       "404263  How does the burning of fossil fuels contribut...   \n",
       "404264  Is it safe to store an external battery power ...   \n",
       "404265                  How can I gain weight on my body?   \n",
       "404266  What is the green dot next to the phone icon o...   \n",
       "404267  What are the causes of the fall of the Roman E...   \n",
       "404268  Why don't we still do great music like in the ...   \n",
       "404269  How do you diagnose antisocial personality dis...   \n",
       "404270        What is the difference between who and how?   \n",
       "404271  Does Stalin have any grandchildren that are st...   \n",
       "404272  What are the best new car products or inventio...   \n",
       "404273    What happens if you put milk in a coffee maker?   \n",
       "404274  Will the next generation of parenting change o...   \n",
       "404275  In accounting, why do we debit expenses and cr...   \n",
       "404276                         What is copilotsearch.com?   \n",
       "404277                            What does analytics do?   \n",
       "404278          How did you prepare for AIIMS/NEET/AIPMT?   \n",
       "404279  What is the minimum time required to build a f...   \n",
       "404280  What are some outfit ideas to wear to a frat p...   \n",
       "404281  Why is Manaphy childish in Pokémon Ranger and ...   \n",
       "404282        How does a long distance relationship work?   \n",
       "404283  What do you think of the removal of the MagSaf...   \n",
       "404284         What does Jainism say about homosexuality?   \n",
       "404285  How many keywords are there in the Racket prog...   \n",
       "404286          Do you believe there is life after death?   \n",
       "404287                                  What is one coin?   \n",
       "404288  What is the approx annual cost of living while...   \n",
       "404289              What is like to have sex with cousin?   \n",
       "\n",
       "                                                question2  is_duplicate_01  \n",
       "0       What is the step by step guide to invest in sh...         0.189051  \n",
       "1       What would happen if the Indian government sto...         0.813153  \n",
       "2       How can Internet speed be increased by hacking...         0.604027  \n",
       "3       Find the remainder when [math]23^{24}[/math] i...         1.342431  \n",
       "4                 Which fish would survive in salt water?         1.009624  \n",
       "5       I'm a triple Capricorn (Sun, Moon and ascendan...         0.648784  \n",
       "6       What keeps childern active and far from phone ...         1.398554  \n",
       "7               What should I do to be a great geologist?         0.475765  \n",
       "8                   When do you use \"&\" instead of \"and\"?         0.000000  \n",
       "9       How do I hack Motorola DCX3400 for free internet?         0.644349  \n",
       "10      What are some of the things technicians can te...         1.306359  \n",
       "11                 How can I see all my Youtube comments?         0.601120  \n",
       "12                How can you make physics easy to learn?         0.000000  \n",
       "13                 What was your first sexual experience?         0.333424  \n",
       "14      What are the laws to change your status from a...         0.093601  \n",
       "15      How will a Trump presidency affect the student...         0.865894  \n",
       "16                          What does manipulation means?         0.000000  \n",
       "17               How do guys feel after rejecting a girl?         0.450130  \n",
       "18      Why do people ask Quora questions which can be...         0.622599  \n",
       "19      Which is the best digital marketing institute ...         0.184825  \n",
       "20            Why are rockets and boosters painted white?         0.679761  \n",
       "21       What can I do to avoid being jealous of someone?         0.355347  \n",
       "22                  Which question should I ask on Quora?         0.000000  \n",
       "23      Where can I find a conversion chart for CC to ...         1.326947  \n",
       "24       How many times a day do a clock’s hands overlap?         0.853492  \n",
       "25      What are some tips on making it through the jo...         0.202122  \n",
       "26                 What is the web application framework?         0.380551  \n",
       "27               How do sports contribute to the society?         0.811436  \n",
       "28              What is best way to ask for money online?         0.246801  \n",
       "29      How one should know that he/she completely pre...         0.723808  \n",
       "...                                                   ...              ...  \n",
       "404260           What is the best phone to buy below 15k?         0.643810  \n",
       "404261  Who is the most popular character in the Game ...         0.292388  \n",
       "404262                   How do I reset a Toshiba laptop?         0.395729  \n",
       "404263  Why does CO2 contribute more to global warming...         0.623182  \n",
       "404264         How do I make a safe and cheap power bank?         0.862761  \n",
       "404265                  What should I eat to gain weight?         0.412130  \n",
       "404266  My boyfriend says he deleted his Facebook Mess...         1.038697  \n",
       "404267  What were the most important causes and effect...         0.447770  \n",
       "404268       Should I raise my young child on 80's music?         0.983706  \n",
       "404269  What Does It Feel Like to have antisocial pers...         0.514172  \n",
       "404270      What is the difference between \"&\" and \"and\"?         0.000000  \n",
       "404271  What was Joseph Stalin's 5 year plan? How did ...         0.876476  \n",
       "404272  What are some mind-blowing vehicles tools that...         0.832227  \n",
       "404273  What would happen if I put milk instead of wat...         0.613201  \n",
       "404274  What kind of parents will the next generation ...         0.542018  \n",
       "404275  What is a utilities expense in accounting? How...         0.781198  \n",
       "404276                           What is ContenVania.com?         0.219589  \n",
       "404277                   What are analytical people like?         0.964989  \n",
       "404278  How did you prepare for the AIIMS UG entrance ...         0.626370  \n",
       "404279  What is a cheaper and quicker way to build an ...         0.892836  \n",
       "404280  What are some outfit ideas wear to a frat them...         0.216865  \n",
       "404281  Why is Manaphy annoying in Pokemon ranger and ...         0.447218  \n",
       "404282    How are long distance relationships maintained?         0.322753  \n",
       "404283  What will the CPU upgrade to the 2016 Apple Ma...         0.727983  \n",
       "404284  What does Jainism say about Gays and Homosexua...         0.294020  \n",
       "404285  How many keywords are there in PERL Programmin...         0.190394  \n",
       "404286         Is it true that there is life after death?         0.331653  \n",
       "404287                                  What's this coin?         0.657207  \n",
       "404288  I am having little hairfall problem but I want...         1.348465  \n",
       "404289      What is it like to have sex with your cousin?         0.000000  \n",
       "\n",
       "[404290 rows x 6 columns]"
      ]
     },
     "execution_count": 336,
     "metadata": {},
     "output_type": "execute_result"
    }
   ],
   "source": [
    "distance_calculation(training_error1_cf,training_error2_cf)"
   ]
  },
  {
   "cell_type": "code",
   "execution_count": 337,
   "metadata": {},
   "outputs": [
    {
     "data": {
      "text/html": [
       "<div>\n",
       "<style scoped>\n",
       "    .dataframe tbody tr th:only-of-type {\n",
       "        vertical-align: middle;\n",
       "    }\n",
       "\n",
       "    .dataframe tbody tr th {\n",
       "        vertical-align: top;\n",
       "    }\n",
       "\n",
       "    .dataframe thead th {\n",
       "        text-align: right;\n",
       "    }\n",
       "</style>\n",
       "<table border=\"1\" class=\"dataframe\">\n",
       "  <thead>\n",
       "    <tr style=\"text-align: right;\">\n",
       "      <th></th>\n",
       "      <th>id</th>\n",
       "      <th>qid1</th>\n",
       "      <th>qid2</th>\n",
       "      <th>question1</th>\n",
       "      <th>question2</th>\n",
       "      <th>is_duplicate_01</th>\n",
       "    </tr>\n",
       "  </thead>\n",
       "  <tbody>\n",
       "    <tr>\n",
       "      <th>0</th>\n",
       "      <td>0</td>\n",
       "      <td>1</td>\n",
       "      <td>2</td>\n",
       "      <td>What is the step by step guide to invest in sh...</td>\n",
       "      <td>What is the step by step guide to invest in sh...</td>\n",
       "      <td>0.189051</td>\n",
       "    </tr>\n",
       "    <tr>\n",
       "      <th>1</th>\n",
       "      <td>1</td>\n",
       "      <td>3</td>\n",
       "      <td>4</td>\n",
       "      <td>What is the story of Kohinoor (Koh-i-Noor) Dia...</td>\n",
       "      <td>What would happen if the Indian government sto...</td>\n",
       "      <td>0.813153</td>\n",
       "    </tr>\n",
       "    <tr>\n",
       "      <th>2</th>\n",
       "      <td>2</td>\n",
       "      <td>5</td>\n",
       "      <td>6</td>\n",
       "      <td>How can I increase the speed of my internet co...</td>\n",
       "      <td>How can Internet speed be increased by hacking...</td>\n",
       "      <td>0.604027</td>\n",
       "    </tr>\n",
       "    <tr>\n",
       "      <th>3</th>\n",
       "      <td>3</td>\n",
       "      <td>7</td>\n",
       "      <td>8</td>\n",
       "      <td>Why am I mentally very lonely? How can I solve...</td>\n",
       "      <td>Find the remainder when [math]23^{24}[/math] i...</td>\n",
       "      <td>1.342431</td>\n",
       "    </tr>\n",
       "    <tr>\n",
       "      <th>4</th>\n",
       "      <td>4</td>\n",
       "      <td>9</td>\n",
       "      <td>10</td>\n",
       "      <td>Which one dissolve in water quikly sugar, salt...</td>\n",
       "      <td>Which fish would survive in salt water?</td>\n",
       "      <td>1.009624</td>\n",
       "    </tr>\n",
       "  </tbody>\n",
       "</table>\n",
       "</div>"
      ],
      "text/plain": [
       "   id  qid1  qid2                                          question1  \\\n",
       "0   0     1     2  What is the step by step guide to invest in sh...   \n",
       "1   1     3     4  What is the story of Kohinoor (Koh-i-Noor) Dia...   \n",
       "2   2     5     6  How can I increase the speed of my internet co...   \n",
       "3   3     7     8  Why am I mentally very lonely? How can I solve...   \n",
       "4   4     9    10  Which one dissolve in water quikly sugar, salt...   \n",
       "\n",
       "                                           question2  is_duplicate_01  \n",
       "0  What is the step by step guide to invest in sh...         0.189051  \n",
       "1  What would happen if the Indian government sto...         0.813153  \n",
       "2  How can Internet speed be increased by hacking...         0.604027  \n",
       "3  Find the remainder when [math]23^{24}[/math] i...         1.342431  \n",
       "4            Which fish would survive in salt water?         1.009624  "
      ]
     },
     "execution_count": 337,
     "metadata": {},
     "output_type": "execute_result"
    }
   ],
   "source": [
    " training_df.head()"
   ]
  },
  {
   "cell_type": "code",
   "execution_count": 338,
   "metadata": {},
   "outputs": [],
   "source": [
    "#feature_df[:10]"
   ]
  },
  {
   "cell_type": "code",
   "execution_count": null,
   "metadata": {},
   "outputs": [],
   "source": []
  },
  {
   "cell_type": "code",
   "execution_count": 339,
   "metadata": {
    "scrolled": false
   },
   "outputs": [
    {
     "name": "stderr",
     "output_type": "stream",
     "text": [
      "/Users/pranavhonrao/anaconda3/envs/py36/lib/python3.6/site-packages/ipykernel_launcher.py:9: FutureWarning:\n",
      "\n",
      "set_value is deprecated and will be removed in a future release. Please use .at[] or .iat[] accessors instead\n",
      "\n",
      "/Users/pranavhonrao/anaconda3/envs/py36/lib/python3.6/site-packages/ipykernel_launcher.py:7: FutureWarning:\n",
      "\n",
      "set_value is deprecated and will be removed in a future release. Please use .at[] or .iat[] accessors instead\n",
      "\n",
      "/Users/pranavhonrao/anaconda3/envs/py36/lib/python3.6/site-packages/ipykernel_launcher.py:5: FutureWarning:\n",
      "\n",
      "set_value is deprecated and will be removed in a future release. Please use .at[] or .iat[] accessors instead\n",
      "\n"
     ]
    },
    {
     "name": "stdout",
     "output_type": "stream",
     "text": [
      "Done so far 100000 \n",
      "Done so far 200000 \n",
      "Done so far 300000 \n",
      "Done so far 400000 \n"
     ]
    }
   ],
   "source": [
    "\n",
    "item_num =0\n",
    "for i, row in training_df['is_duplicate_01'].iteritems():\n",
    "    if row == 0.000000:\n",
    "        training_df.set_value(i,'is_duplicate_01',1)\n",
    "    elif (row >= 0.28 and row <= 0.72):\n",
    "        training_df.set_value(i,'is_duplicate_01',1)\n",
    "    else:\n",
    "        training_df.set_value(i,'is_duplicate_01',0)\n",
    "    item_num = item_num + 1\n",
    "    if (item_num%100000 == 0):\n",
    "        print (\"Done so far {} \".format(item_num) )\n",
    "        \n",
    "   \n"
   ]
  },
  {
   "cell_type": "code",
   "execution_count": 340,
   "metadata": {},
   "outputs": [
    {
     "data": {
      "text/html": [
       "<div>\n",
       "<style scoped>\n",
       "    .dataframe tbody tr th:only-of-type {\n",
       "        vertical-align: middle;\n",
       "    }\n",
       "\n",
       "    .dataframe tbody tr th {\n",
       "        vertical-align: top;\n",
       "    }\n",
       "\n",
       "    .dataframe thead th {\n",
       "        text-align: right;\n",
       "    }\n",
       "</style>\n",
       "<table border=\"1\" class=\"dataframe\">\n",
       "  <thead>\n",
       "    <tr style=\"text-align: right;\">\n",
       "      <th></th>\n",
       "      <th>id</th>\n",
       "      <th>qid1</th>\n",
       "      <th>qid2</th>\n",
       "      <th>question1</th>\n",
       "      <th>question2</th>\n",
       "      <th>is_duplicate_01</th>\n",
       "    </tr>\n",
       "  </thead>\n",
       "  <tbody>\n",
       "    <tr>\n",
       "      <th>0</th>\n",
       "      <td>0</td>\n",
       "      <td>1</td>\n",
       "      <td>2</td>\n",
       "      <td>What is the step by step guide to invest in sh...</td>\n",
       "      <td>What is the step by step guide to invest in sh...</td>\n",
       "      <td>0.0</td>\n",
       "    </tr>\n",
       "    <tr>\n",
       "      <th>1</th>\n",
       "      <td>1</td>\n",
       "      <td>3</td>\n",
       "      <td>4</td>\n",
       "      <td>What is the story of Kohinoor (Koh-i-Noor) Dia...</td>\n",
       "      <td>What would happen if the Indian government sto...</td>\n",
       "      <td>0.0</td>\n",
       "    </tr>\n",
       "    <tr>\n",
       "      <th>2</th>\n",
       "      <td>2</td>\n",
       "      <td>5</td>\n",
       "      <td>6</td>\n",
       "      <td>How can I increase the speed of my internet co...</td>\n",
       "      <td>How can Internet speed be increased by hacking...</td>\n",
       "      <td>1.0</td>\n",
       "    </tr>\n",
       "    <tr>\n",
       "      <th>3</th>\n",
       "      <td>3</td>\n",
       "      <td>7</td>\n",
       "      <td>8</td>\n",
       "      <td>Why am I mentally very lonely? How can I solve...</td>\n",
       "      <td>Find the remainder when [math]23^{24}[/math] i...</td>\n",
       "      <td>0.0</td>\n",
       "    </tr>\n",
       "    <tr>\n",
       "      <th>4</th>\n",
       "      <td>4</td>\n",
       "      <td>9</td>\n",
       "      <td>10</td>\n",
       "      <td>Which one dissolve in water quikly sugar, salt...</td>\n",
       "      <td>Which fish would survive in salt water?</td>\n",
       "      <td>0.0</td>\n",
       "    </tr>\n",
       "  </tbody>\n",
       "</table>\n",
       "</div>"
      ],
      "text/plain": [
       "   id  qid1  qid2                                          question1  \\\n",
       "0   0     1     2  What is the step by step guide to invest in sh...   \n",
       "1   1     3     4  What is the story of Kohinoor (Koh-i-Noor) Dia...   \n",
       "2   2     5     6  How can I increase the speed of my internet co...   \n",
       "3   3     7     8  Why am I mentally very lonely? How can I solve...   \n",
       "4   4     9    10  Which one dissolve in water quikly sugar, salt...   \n",
       "\n",
       "                                           question2  is_duplicate_01  \n",
       "0  What is the step by step guide to invest in sh...              0.0  \n",
       "1  What would happen if the Indian government sto...              0.0  \n",
       "2  How can Internet speed be increased by hacking...              1.0  \n",
       "3  Find the remainder when [math]23^{24}[/math] i...              0.0  \n",
       "4            Which fish would survive in salt water?              0.0  "
      ]
     },
     "execution_count": 340,
     "metadata": {},
     "output_type": "execute_result"
    }
   ],
   "source": [
    "training_df.head()"
   ]
  },
  {
   "cell_type": "code",
   "execution_count": 341,
   "metadata": {},
   "outputs": [],
   "source": [
    "#training_df['is_duplicate_01'][:20]\n",
    "#training_df['is_duplicate_01']=training_df[int(training_df['is_duplicate_01'])]\n",
    "training_df['is_duplicate_01'] = training_df['is_duplicate_01'].astype(int)"
   ]
  },
  {
   "cell_type": "code",
   "execution_count": 342,
   "metadata": {},
   "outputs": [
    {
     "data": {
      "text/html": [
       "<div>\n",
       "<style scoped>\n",
       "    .dataframe tbody tr th:only-of-type {\n",
       "        vertical-align: middle;\n",
       "    }\n",
       "\n",
       "    .dataframe tbody tr th {\n",
       "        vertical-align: top;\n",
       "    }\n",
       "\n",
       "    .dataframe thead th {\n",
       "        text-align: right;\n",
       "    }\n",
       "</style>\n",
       "<table border=\"1\" class=\"dataframe\">\n",
       "  <thead>\n",
       "    <tr style=\"text-align: right;\">\n",
       "      <th></th>\n",
       "      <th>id</th>\n",
       "      <th>qid1</th>\n",
       "      <th>qid2</th>\n",
       "      <th>question1</th>\n",
       "      <th>question2</th>\n",
       "      <th>is_duplicate_01</th>\n",
       "    </tr>\n",
       "  </thead>\n",
       "  <tbody>\n",
       "    <tr>\n",
       "      <th>0</th>\n",
       "      <td>0</td>\n",
       "      <td>1</td>\n",
       "      <td>2</td>\n",
       "      <td>What is the step by step guide to invest in sh...</td>\n",
       "      <td>What is the step by step guide to invest in sh...</td>\n",
       "      <td>0</td>\n",
       "    </tr>\n",
       "    <tr>\n",
       "      <th>1</th>\n",
       "      <td>1</td>\n",
       "      <td>3</td>\n",
       "      <td>4</td>\n",
       "      <td>What is the story of Kohinoor (Koh-i-Noor) Dia...</td>\n",
       "      <td>What would happen if the Indian government sto...</td>\n",
       "      <td>0</td>\n",
       "    </tr>\n",
       "    <tr>\n",
       "      <th>2</th>\n",
       "      <td>2</td>\n",
       "      <td>5</td>\n",
       "      <td>6</td>\n",
       "      <td>How can I increase the speed of my internet co...</td>\n",
       "      <td>How can Internet speed be increased by hacking...</td>\n",
       "      <td>1</td>\n",
       "    </tr>\n",
       "    <tr>\n",
       "      <th>3</th>\n",
       "      <td>3</td>\n",
       "      <td>7</td>\n",
       "      <td>8</td>\n",
       "      <td>Why am I mentally very lonely? How can I solve...</td>\n",
       "      <td>Find the remainder when [math]23^{24}[/math] i...</td>\n",
       "      <td>0</td>\n",
       "    </tr>\n",
       "    <tr>\n",
       "      <th>4</th>\n",
       "      <td>4</td>\n",
       "      <td>9</td>\n",
       "      <td>10</td>\n",
       "      <td>Which one dissolve in water quikly sugar, salt...</td>\n",
       "      <td>Which fish would survive in salt water?</td>\n",
       "      <td>0</td>\n",
       "    </tr>\n",
       "  </tbody>\n",
       "</table>\n",
       "</div>"
      ],
      "text/plain": [
       "   id  qid1  qid2                                          question1  \\\n",
       "0   0     1     2  What is the step by step guide to invest in sh...   \n",
       "1   1     3     4  What is the story of Kohinoor (Koh-i-Noor) Dia...   \n",
       "2   2     5     6  How can I increase the speed of my internet co...   \n",
       "3   3     7     8  Why am I mentally very lonely? How can I solve...   \n",
       "4   4     9    10  Which one dissolve in water quikly sugar, salt...   \n",
       "\n",
       "                                           question2  is_duplicate_01  \n",
       "0  What is the step by step guide to invest in sh...                0  \n",
       "1  What would happen if the Indian government sto...                0  \n",
       "2  How can Internet speed be increased by hacking...                1  \n",
       "3  Find the remainder when [math]23^{24}[/math] i...                0  \n",
       "4            Which fish would survive in salt water?                0  "
      ]
     },
     "execution_count": 342,
     "metadata": {},
     "output_type": "execute_result"
    }
   ],
   "source": [
    "training_df.head()"
   ]
  },
  {
   "cell_type": "code",
   "execution_count": 343,
   "metadata": {},
   "outputs": [
    {
     "data": {
      "text/plain": [
       "404290"
      ]
     },
     "execution_count": 343,
     "metadata": {},
     "output_type": "execute_result"
    }
   ],
   "source": [
    "len(training_df)"
   ]
  },
  {
   "cell_type": "code",
   "execution_count": 344,
   "metadata": {},
   "outputs": [],
   "source": [
    "from sklearn.metrics import confusion_matrix,accuracy_score\n",
    "\n",
    "y_actu = feature_df\n",
    "y_pred = training_df['is_duplicate_01']\n",
    "#cf_ma = confusion_matrix(y_actu, y_pred)\n",
    "a_score=accuracy_score(y_actu, y_pred)"
   ]
  },
  {
   "cell_type": "code",
   "execution_count": 345,
   "metadata": {},
   "outputs": [
    {
     "data": {
      "text/plain": [
       "array([[153497, 101530],\n",
       "       [ 38694, 110569]])"
      ]
     },
     "execution_count": 345,
     "metadata": {},
     "output_type": "execute_result"
    }
   ],
   "source": [
    "cf_ma = confusion_matrix(y_actu, y_pred)\n",
    "cf_ma"
   ]
  },
  {
   "cell_type": "code",
   "execution_count": 346,
   "metadata": {},
   "outputs": [
    {
     "data": {
      "text/plain": [
       "0.6531598604961785"
      ]
     },
     "execution_count": 346,
     "metadata": {},
     "output_type": "execute_result"
    }
   ],
   "source": [
    "#cf_ma\n",
    "a_score"
   ]
  },
  {
   "cell_type": "code",
   "execution_count": 347,
   "metadata": {},
   "outputs": [],
   "source": [
    "#accuracy_score =67.30 when dimension=100\n",
    "#chaging to 300 now"
   ]
  },
  {
   "cell_type": "code",
   "execution_count": 348,
   "metadata": {},
   "outputs": [],
   "source": [
    "def avg_length_corpus(training_error1_cf):\n",
    "    \n",
    "    min_length=0\n",
    "    max_length=len(training_error1_cf[0])\n",
    "    \n",
    "    for i in range(0,len(training_error1_cf)):\n",
    "        if len(training_error1_cf[i]) <=min_length :\n",
    "            min_length= len(training_error1_cf[i])\n",
    "        \n",
    "    \n",
    "    for i in range(1,len(training_error1_cf)):\n",
    "        if len(training_error1_cf[i]) > max_length:\n",
    "            max_length= len(training_error1_cf[i])\n",
    "        \n",
    "    \n",
    "    avg_length= (min_length + max_length)//2\n",
    "    \n",
    "    \n",
    "    return min_length,max_length,avg_length\n",
    "\n"
   ]
  },
  {
   "cell_type": "code",
   "execution_count": 349,
   "metadata": {},
   "outputs": [],
   "source": [
    "avg_question1_training_set= avg_length_corpus(training_error1_cf)"
   ]
  },
  {
   "cell_type": "code",
   "execution_count": 350,
   "metadata": {},
   "outputs": [],
   "source": [
    "avg_question2_training_set= avg_length_corpus(training_error2_cf)"
   ]
  },
  {
   "cell_type": "code",
   "execution_count": 351,
   "metadata": {},
   "outputs": [
    {
     "name": "stdout",
     "output_type": "stream",
     "text": [
      "(0, 53, 26)\n",
      "(0, 97, 48)\n"
     ]
    }
   ],
   "source": [
    "print(avg_question1_training_set)\n",
    "print(avg_question2_training_set)"
   ]
  },
  {
   "cell_type": "code",
   "execution_count": 352,
   "metadata": {},
   "outputs": [],
   "source": [
    "def len_trainging_questions_array(training_error1_cf):\n",
    "    questions_length_array =[]\n",
    "    for i in training_error1_cf:\n",
    "        questions_length_array.append(len(i))\n",
    "        \n",
    "    return questions_length_array\n",
    "    "
   ]
  },
  {
   "cell_type": "code",
   "execution_count": 353,
   "metadata": {},
   "outputs": [],
   "source": [
    "question_1_length =len_trainging_questions_array(training_error1_cf)"
   ]
  },
  {
   "cell_type": "code",
   "execution_count": 354,
   "metadata": {},
   "outputs": [],
   "source": [
    "question_2_length =len_trainging_questions_array(training_error2_cf)"
   ]
  },
  {
   "cell_type": "code",
   "execution_count": 355,
   "metadata": {},
   "outputs": [
    {
     "data": {
      "text/plain": [
       "'file:///Users/pranavhonrao/anaconda3/temp-plot.html'"
      ]
     },
     "execution_count": 355,
     "metadata": {},
     "output_type": "execute_result"
    }
   ],
   "source": [
    "\n",
    "import plotly.plotly as py\n",
    "import plotly.graph_objs as go\n",
    "\n",
    "\n",
    "trace = go.Box(\n",
    "    y= question_2_length,\n",
    "    name='Mean & SD',\n",
    "    marker=dict(\n",
    "        color='rgb(10, 140, 208)',\n",
    "    ),\n",
    "    boxmean='sd'\n",
    ")\n",
    "data = [trace]\n",
    "#py.iplot(data)\n",
    "plotly.offline.plot(data)\n"
   ]
  },
  {
   "cell_type": "code",
   "execution_count": 356,
   "metadata": {},
   "outputs": [],
   "source": [
    "def duplicate_entries(input_array):\n",
    "    \n",
    "    final_result=[]\n",
    "    new_array=[]\n",
    "    unseen=set()\n",
    "    count=0\n",
    "    for i in input_array:\n",
    "        for j in i:\n",
    "                 if j not in unseen:\n",
    "                    unseen.add(j)\n",
    "                    final_result.append(model[j])\n",
    "                    #final_result.append(j)\n",
    "        if len(final_result) >5:\n",
    "            final_result=final_result[0:5]\n",
    "        else:\n",
    "            array_length=len(final_result)\n",
    "            while array_length <5:\n",
    "                final_result.append(np.zeros(200))\n",
    "                array_length=array_length +1\n",
    "                    \n",
    "        new_array.append(final_result)\n",
    "        final_result=[]\n",
    "            \n",
    "    \n",
    "    return new_array\n",
    "    \n",
    "            \n",
    "\n"
   ]
  },
  {
   "cell_type": "code",
   "execution_count": 357,
   "metadata": {},
   "outputs": [
    {
     "name": "stderr",
     "output_type": "stream",
     "text": [
      "/Users/pranavhonrao/anaconda3/envs/py36/lib/python3.6/site-packages/ipykernel_launcher.py:11: DeprecationWarning:\n",
      "\n",
      "Call to deprecated `__getitem__` (Method will be removed in 4.0.0, use self.wv.__getitem__() instead).\n",
      "\n"
     ]
    }
   ],
   "source": [
    "vector_training_set_question1 =duplicate_entries(training_error1_cf)"
   ]
  },
  {
   "cell_type": "code",
   "execution_count": 358,
   "metadata": {},
   "outputs": [
    {
     "name": "stdout",
     "output_type": "stream",
     "text": [
      "<class 'list'>\n"
     ]
    }
   ],
   "source": [
    "print(type(vector_training_set_question1))"
   ]
  },
  {
   "cell_type": "code",
   "execution_count": 359,
   "metadata": {},
   "outputs": [
    {
     "name": "stderr",
     "output_type": "stream",
     "text": [
      "/Users/pranavhonrao/anaconda3/envs/py36/lib/python3.6/site-packages/ipykernel_launcher.py:11: DeprecationWarning:\n",
      "\n",
      "Call to deprecated `__getitem__` (Method will be removed in 4.0.0, use self.wv.__getitem__() instead).\n",
      "\n"
     ]
    }
   ],
   "source": [
    "vector_training_set_question2 =duplicate_entries(training_error2_cf)\n",
    "\n",
    "\n",
    "            \n",
    "        "
   ]
  },
  {
   "cell_type": "code",
   "execution_count": 360,
   "metadata": {},
   "outputs": [],
   "source": [
    "#vector_training_set_question2"
   ]
  },
  {
   "cell_type": "code",
   "execution_count": 361,
   "metadata": {},
   "outputs": [],
   "source": [
    "a = np.array(vector_training_set_question1)\n",
    "b = np.array(vector_training_set_question2)\n",
    "\n",
    "\n",
    "\n"
   ]
  },
  {
   "cell_type": "code",
   "execution_count": 362,
   "metadata": {},
   "outputs": [],
   "source": [
    "result=np.column_stack((a,b))"
   ]
  },
  {
   "cell_type": "code",
   "execution_count": 363,
   "metadata": {},
   "outputs": [
    {
     "data": {
      "text/plain": [
       "404290"
      ]
     },
     "execution_count": 363,
     "metadata": {},
     "output_type": "execute_result"
    }
   ],
   "source": [
    "len(result)"
   ]
  },
  {
   "cell_type": "code",
   "execution_count": 364,
   "metadata": {},
   "outputs": [],
   "source": [
    "from keras.models import Sequential\n",
    "from keras.layers import Dense,Activation\n",
    "from keras.regularizers import L1L2\n",
    "from keras.utils import np_utils"
   ]
  },
  {
   "cell_type": "code",
   "execution_count": 378,
   "metadata": {},
   "outputs": [],
   "source": [
    "in_dim = 2000"
   ]
  },
  {
   "cell_type": "code",
   "execution_count": 366,
   "metadata": {},
   "outputs": [],
   "source": [
    "y=feature_df"
   ]
  },
  {
   "cell_type": "code",
   "execution_count": 367,
   "metadata": {},
   "outputs": [],
   "source": [
    "X=result"
   ]
  },
  {
   "cell_type": "code",
   "execution_count": 368,
   "metadata": {},
   "outputs": [],
   "source": [
    "from sklearn.model_selection import train_test_split\n",
    "#X_train, X_test, y_train, y_test = train_test_split( X, y, test_size=0.20, random_state=42)"
   ]
  },
  {
   "cell_type": "code",
   "execution_count": 369,
   "metadata": {},
   "outputs": [],
   "source": [
    "model = Sequential()\n",
    "model.add(Dense(2, activation='relu'))\n",
    "model.add(Dense(2, activation='softmax',input_dim=2000) )\n",
    "#model.add(Dense(2,Activation('softmax')))\n"
   ]
  },
  {
   "cell_type": "code",
   "execution_count": 370,
   "metadata": {},
   "outputs": [],
   "source": [
    "#model.compile(optimizer=sgd,loss='categorical_crossentropy',metrics=['accuracy'])"
   ]
  },
  {
   "cell_type": "code",
   "execution_count": 371,
   "metadata": {},
   "outputs": [
    {
     "data": {
      "text/plain": [
       "<keras.engine.sequential.Sequential at 0x1a9fafacf8>"
      ]
     },
     "execution_count": 371,
     "metadata": {},
     "output_type": "execute_result"
    }
   ],
   "source": [
    "model"
   ]
  },
  {
   "cell_type": "code",
   "execution_count": 372,
   "metadata": {},
   "outputs": [],
   "source": [
    "model.compile(optimizer='sgd',loss='binary_crossentropy',metrics=['accuracy'])"
   ]
  },
  {
   "cell_type": "code",
   "execution_count": 373,
   "metadata": {},
   "outputs": [],
   "source": [
    "from sklearn.model_selection import train_test_split\n",
    "X_train, X_test, y_train, y_test = train_test_split( X, y, test_size=0.30, random_state=42)"
   ]
  },
  {
   "cell_type": "code",
   "execution_count": 374,
   "metadata": {},
   "outputs": [
    {
     "data": {
      "text/plain": [
       "121287"
      ]
     },
     "execution_count": 374,
     "metadata": {},
     "output_type": "execute_result"
    }
   ],
   "source": [
    "len(X_test)"
   ]
  },
  {
   "cell_type": "code",
   "execution_count": 379,
   "metadata": {},
   "outputs": [],
   "source": [
    "X_train= X_train.reshape(283003, in_dim)"
   ]
  },
  {
   "cell_type": "code",
   "execution_count": 380,
   "metadata": {},
   "outputs": [],
   "source": [
    "X_train = X_train.astype('float32')"
   ]
  },
  {
   "cell_type": "code",
   "execution_count": 381,
   "metadata": {},
   "outputs": [],
   "source": [
    "X_test = X_test.reshape(121287, in_dim) "
   ]
  },
  {
   "cell_type": "code",
   "execution_count": 382,
   "metadata": {},
   "outputs": [],
   "source": [
    "X_test = X_test.astype('float32')\n",
    "X_train /= 255\n",
    "X_test /= 255"
   ]
  },
  {
   "cell_type": "code",
   "execution_count": null,
   "metadata": {},
   "outputs": [],
   "source": []
  },
  {
   "cell_type": "code",
   "execution_count": 383,
   "metadata": {},
   "outputs": [],
   "source": [
    "nb_classes =2"
   ]
  },
  {
   "cell_type": "code",
   "execution_count": 384,
   "metadata": {},
   "outputs": [],
   "source": [
    "Y_train = np_utils.to_categorical(y_train)\n",
    "Y_test = np_utils.to_categorical(y_test)"
   ]
  },
  {
   "cell_type": "code",
   "execution_count": 385,
   "metadata": {},
   "outputs": [
    {
     "name": "stdout",
     "output_type": "stream",
     "text": [
      "Train on 189612 samples, validate on 93391 samples\n",
      "Epoch 1/150\n",
      "189612/189612 [==============================] - 7s 37us/step - loss: 0.6714 - acc: 0.6319 - val_loss: 0.6589 - val_acc: 0.6302\n",
      "Epoch 2/150\n",
      "189612/189612 [==============================] - 6s 31us/step - loss: 0.6579 - acc: 0.6319 - val_loss: 0.6589 - val_acc: 0.6302 4s - l - ETA: 0s - loss: \n",
      "Epoch 3/150\n",
      "189612/189612 [==============================] - 6s 29us/step - loss: 0.6579 - acc: 0.6319 - val_loss: 0.6589 - val_acc: 0.6302- acc: 0\n",
      "Epoch 4/150\n",
      "189612/189612 [==============================] - 6s 29us/step - loss: 0.6579 - acc: 0.6319 - val_loss: 0.6589 - val_acc: 0.6302\n",
      "Epoch 5/150\n",
      "189612/189612 [==============================] - 6s 29us/step - loss: 0.6579 - acc: 0.6319 - val_loss: 0.6588 - val_acc: 0.6302\n",
      "Epoch 6/150\n",
      "189612/189612 [==============================] - 5s 27us/step - loss: 0.6579 - acc: 0.6319 - val_loss: 0.6589 - val_acc: 0.6302\n",
      "Epoch 7/150\n",
      "189612/189612 [==============================] - 5s 28us/step - loss: 0.6579 - acc: 0.6319 - val_loss: 0.6589 - val_acc: 0.6302\n",
      "Epoch 8/150\n",
      "189612/189612 [==============================] - 6s 30us/step - loss: 0.6579 - acc: 0.6319 - val_loss: 0.6589 - val_acc: 0.6302\n",
      "Epoch 9/150\n",
      "189612/189612 [==============================] - 4s 24us/step - loss: 0.6579 - acc: 0.6319 - val_loss: 0.6589 - val_acc: 0.6302\n",
      "Epoch 10/150\n",
      "189612/189612 [==============================] - 4s 22us/step - loss: 0.6579 - acc: 0.6319 - val_loss: 0.6589 - val_acc: 0.6302\n",
      "Epoch 11/150\n",
      "189612/189612 [==============================] - 5s 25us/step - loss: 0.6579 - acc: 0.6319 - val_loss: 0.6588 - val_acc: 0.6302 - ETA: 1s - loss\n",
      "Epoch 12/150\n",
      "189612/189612 [==============================] - 4s 23us/step - loss: 0.6579 - acc: 0.6319 - val_loss: 0.6590 - val_acc: 0.6302\n",
      "Epoch 13/150\n",
      "189612/189612 [==============================] - 4s 23us/step - loss: 0.6579 - acc: 0.6319 - val_loss: 0.6589 - val_acc: 0.6302c: \n",
      "Epoch 14/150\n",
      "189612/189612 [==============================] - 4s 23us/step - loss: 0.6579 - acc: 0.6319 - val_loss: 0.6589 - val_acc: 0.6302\n",
      "Epoch 15/150\n",
      "189612/189612 [==============================] - 4s 23us/step - loss: 0.6579 - acc: 0.6319 - val_loss: 0.6588 - val_acc: 0.6302\n",
      "Epoch 16/150\n",
      "189612/189612 [==============================] - 4s 23us/step - loss: 0.6579 - acc: 0.6319 - val_loss: 0.6589 - val_acc: 0.6302TA: 0s - loss: 0.6577 - acc\n",
      "Epoch 17/150\n",
      "189612/189612 [==============================] - 4s 23us/step - loss: 0.6579 - acc: 0.6319 - val_loss: 0.6589 - val_acc: 0.6302\n",
      "Epoch 18/150\n",
      "189612/189612 [==============================] - 4s 23us/step - loss: 0.6579 - acc: 0.6319 - val_loss: 0.6589 - val_acc: 0.6302\n",
      "Epoch 19/150\n",
      "189612/189612 [==============================] - 4s 23us/step - loss: 0.6579 - acc: 0.6319 - val_loss: 0.6589 - val_acc: 0.6302\n",
      "Epoch 20/150\n",
      "189612/189612 [==============================] - 4s 23us/step - loss: 0.6579 - acc: 0.6319 - val_loss: 0.6589 - val_acc: 0.6302\n",
      "Epoch 21/150\n",
      "189612/189612 [==============================] - 4s 23us/step - loss: 0.6579 - acc: 0.6319 - val_loss: 0.6589 - val_acc: 0.6302\n",
      "Epoch 22/150\n",
      "189612/189612 [==============================] - 4s 23us/step - loss: 0.6579 - acc: 0.6319 - val_loss: 0.6589 - val_acc: 0.6302\n",
      "Epoch 23/150\n",
      "189612/189612 [==============================] - 5s 25us/step - loss: 0.6579 - acc: 0.6319 - val_loss: 0.6589 - val_acc: 0.6302\n",
      "Epoch 24/150\n",
      "189612/189612 [==============================] - 6s 33us/step - loss: 0.6579 - acc: 0.6319 - val_loss: 0.6589 - val_acc: 0.6302\n",
      "Epoch 25/150\n",
      "189612/189612 [==============================] - 5s 27us/step - loss: 0.6579 - acc: 0.6319 - val_loss: 0.6589 - val_acc: 0.6302\n",
      "Epoch 26/150\n",
      "189612/189612 [==============================] - 4s 23us/step - loss: 0.6579 - acc: 0.6319 - val_loss: 0.6589 - val_acc: 0.6302A: 2s - loss: 0.6588 - acc:  - ETA: 1s - loss:  - ETA: 0s - loss: 0.6\n",
      "Epoch 27/150\n",
      "189612/189612 [==============================] - 4s 23us/step - loss: 0.6579 - acc: 0.6319 - val_loss: 0.6589 - val_acc: 0.6302\n",
      "Epoch 28/150\n",
      "189612/189612 [==============================] - 4s 23us/step - loss: 0.6579 - acc: 0.6319 - val_loss: 0.6589 - val_acc: 0.6302\n",
      "Epoch 29/150\n",
      "189612/189612 [==============================] - 4s 23us/step - loss: 0.6579 - acc: 0.6319 - val_loss: 0.6589 - val_acc: 0.6302\n",
      "Epoch 30/150\n",
      "189612/189612 [==============================] - 4s 23us/step - loss: 0.6579 - acc: 0.6319 - val_loss: 0.6589 - val_acc: 0.6302\n",
      "Epoch 31/150\n",
      "189612/189612 [==============================] - 4s 23us/step - loss: 0.6579 - acc: 0.6319 - val_loss: 0.6589 - val_acc: 0.6302\n",
      "Epoch 32/150\n",
      "189612/189612 [==============================] - 4s 23us/step - loss: 0.6579 - acc: 0.6319 - val_loss: 0.6589 - val_acc: 0.6302\n",
      "Epoch 33/150\n",
      "189612/189612 [==============================] - 4s 23us/step - loss: 0.6579 - acc: 0.6319 - val_loss: 0.6588 - val_acc: 0.6302\n",
      "Epoch 34/150\n",
      "189612/189612 [==============================] - 4s 23us/step - loss: 0.6579 - acc: 0.6319 - val_loss: 0.6589 - val_acc: 0.6302\n",
      "Epoch 35/150\n",
      "189612/189612 [==============================] - 4s 23us/step - loss: 0.6579 - acc: 0.6319 - val_loss: 0.6589 - val_acc: 0.6302\n",
      "Epoch 36/150\n",
      "189612/189612 [==============================] - 4s 23us/step - loss: 0.6579 - acc: 0.6319 - val_loss: 0.6589 - val_acc: 0.6302\n",
      "Epoch 37/150\n",
      "189612/189612 [==============================] - 4s 23us/step - loss: 0.6579 - acc: 0.6319 - val_loss: 0.6589 - val_acc: 0.6302\n",
      "Epoch 38/150\n",
      "189612/189612 [==============================] - 4s 23us/step - loss: 0.6579 - acc: 0.6319 - val_loss: 0.6588 - val_acc: 0.6302\n",
      "Epoch 39/150\n",
      "189612/189612 [==============================] - 4s 23us/step - loss: 0.6579 - acc: 0.6319 - val_loss: 0.6589 - val_acc: 0.6302\n",
      "Epoch 40/150\n",
      "189612/189612 [==============================] - 4s 22us/step - loss: 0.6579 - acc: 0.6319 - val_loss: 0.6589 - val_acc: 0.6302\n",
      "Epoch 41/150\n",
      "189612/189612 [==============================] - 4s 23us/step - loss: 0.6579 - acc: 0.6319 - val_loss: 0.6589 - val_acc: 0.6302\n",
      "Epoch 42/150\n",
      "189612/189612 [==============================] - 5s 25us/step - loss: 0.6579 - acc: 0.6319 - val_loss: 0.6589 - val_acc: 0.6302\n",
      "Epoch 43/150\n",
      "189612/189612 [==============================] - 6s 31us/step - loss: 0.6579 - acc: 0.6319 - val_loss: 0.6589 - val_acc: 0.6302\n",
      "Epoch 44/150\n",
      "189612/189612 [==============================] - 6s 32us/step - loss: 0.6579 - acc: 0.6319 - val_loss: 0.6589 - val_acc: 0.6302\n",
      "Epoch 45/150\n",
      "189612/189612 [==============================] - 5s 25us/step - loss: 0.6579 - acc: 0.6319 - val_loss: 0.6588 - val_acc: 0.6302\n",
      "Epoch 46/150\n",
      "189612/189612 [==============================] - 4s 23us/step - loss: 0.6579 - acc: 0.6319 - val_loss: 0.6589 - val_acc: 0.6302\n",
      "Epoch 47/150\n",
      "189612/189612 [==============================] - 4s 23us/step - loss: 0.6579 - acc: 0.6319 - val_loss: 0.6589 - val_acc: 0.6302\n",
      "Epoch 48/150\n",
      "189612/189612 [==============================] - 4s 23us/step - loss: 0.6579 - acc: 0.6319 - val_loss: 0.6590 - val_acc: 0.6302\n",
      "Epoch 49/150\n",
      "189612/189612 [==============================] - 4s 23us/step - loss: 0.6579 - acc: 0.6319 - val_loss: 0.6589 - val_acc: 0.6302\n",
      "Epoch 50/150\n",
      "189612/189612 [==============================] - 4s 23us/step - loss: 0.6579 - acc: 0.6319 - val_loss: 0.6589 - val_acc: 0.6302\n",
      "Epoch 51/150\n",
      "189612/189612 [==============================] - 5s 25us/step - loss: 0.6579 - acc: 0.6319 - val_loss: 0.6589 - val_acc: 0.6302\n",
      "Epoch 52/150\n",
      "189612/189612 [==============================] - 5s 25us/step - loss: 0.6579 - acc: 0.6319 - val_loss: 0.6589 - val_acc: 0.6302\n",
      "Epoch 53/150\n",
      "189612/189612 [==============================] - 4s 23us/step - loss: 0.6579 - acc: 0.6319 - val_loss: 0.6589 - val_acc: 0.6302\n",
      "Epoch 54/150\n",
      "189612/189612 [==============================] - 4s 23us/step - loss: 0.6579 - acc: 0.6319 - val_loss: 0.6589 - val_acc: 0.6302\n",
      "Epoch 55/150\n",
      "189612/189612 [==============================] - 5s 26us/step - loss: 0.6580 - acc: 0.6319 - val_loss: 0.6589 - val_acc: 0.6302 1s - loss: 0.6580 - acc: - ETA: 0s - loss: 0.6579 - ETA: 0s - loss: 0.6580 - acc: 0.631\n",
      "Epoch 56/150\n",
      "189612/189612 [==============================] - 4s 23us/step - loss: 0.6579 - acc: 0.6319 - val_loss: 0.6589 - val_acc: 0.6302\n",
      "Epoch 57/150\n"
     ]
    },
    {
     "name": "stdout",
     "output_type": "stream",
     "text": [
      "189612/189612 [==============================] - 4s 23us/step - loss: 0.6579 - acc: 0.6319 - val_loss: 0.6589 - val_acc: 0.6302\n",
      "Epoch 58/150\n",
      "189612/189612 [==============================] - 4s 23us/step - loss: 0.6579 - acc: 0.6319 - val_loss: 0.6589 - val_acc: 0.6302\n",
      "Epoch 59/150\n",
      "189612/189612 [==============================] - 5s 24us/step - loss: 0.6579 - acc: 0.6319 - val_loss: 0.6589 - val_acc: 0.6302\n",
      "Epoch 60/150\n",
      "189612/189612 [==============================] - 5s 28us/step - loss: 0.6579 - acc: 0.6319 - val_loss: 0.6589 - val_acc: 0.6302\n",
      "Epoch 61/150\n",
      "189612/189612 [==============================] - 5s 25us/step - loss: 0.6579 - acc: 0.6319 - val_loss: 0.6589 - val_acc: 0.6302\n",
      "Epoch 62/150\n",
      "189612/189612 [==============================] - 5s 25us/step - loss: 0.6579 - acc: 0.6319 - val_loss: 0.6589 - val_acc: 0.6302\n",
      "Epoch 63/150\n",
      "189612/189612 [==============================] - 4s 23us/step - loss: 0.6579 - acc: 0.6319 - val_loss: 0.6589 - val_acc: 0.6302\n",
      "Epoch 64/150\n",
      "189612/189612 [==============================] - 5s 27us/step - loss: 0.6579 - acc: 0.6319 - val_loss: 0.6588 - val_acc: 0.6302\n",
      "Epoch 65/150\n",
      "189612/189612 [==============================] - 5s 26us/step - loss: 0.6579 - acc: 0.6319 - val_loss: 0.6588 - val_acc: 0.6302A: 2s -  - ETA: 1\n",
      "Epoch 66/150\n",
      "189612/189612 [==============================] - 4s 23us/step - loss: 0.6579 - acc: 0.6319 - val_loss: 0.6589 - val_acc: 0.6302\n",
      "Epoch 67/150\n",
      "189612/189612 [==============================] - 4s 22us/step - loss: 0.6579 - acc: 0.6319 - val_loss: 0.6589 - val_acc: 0.6302\n",
      "Epoch 68/150\n",
      "189612/189612 [==============================] - 4s 23us/step - loss: 0.6579 - acc: 0.6319 - val_loss: 0.6589 - val_acc: 0.6302\n",
      "Epoch 69/150\n",
      "189612/189612 [==============================] - 4s 23us/step - loss: 0.6579 - acc: 0.6319 - val_loss: 0.6588 - val_acc: 0.6302\n",
      "Epoch 70/150\n",
      "189612/189612 [==============================] - 4s 23us/step - loss: 0.6579 - acc: 0.6319 - val_loss: 0.6589 - val_acc: 0.6302\n",
      "Epoch 71/150\n",
      "189612/189612 [==============================] - 4s 22us/step - loss: 0.6579 - acc: 0.6319 - val_loss: 0.6589 - val_acc: 0.6302\n",
      "Epoch 72/150\n",
      "189612/189612 [==============================] - 4s 22us/step - loss: 0.6579 - acc: 0.6319 - val_loss: 0.6589 - val_acc: 0.6302\n",
      "Epoch 73/150\n",
      "189612/189612 [==============================] - 4s 23us/step - loss: 0.6579 - acc: 0.6319 - val_loss: 0.6589 - val_acc: 0.6302\n",
      "Epoch 74/150\n",
      "189612/189612 [==============================] - 4s 23us/step - loss: 0.6579 - acc: 0.6319 - val_loss: 0.6589 - val_acc: 0.6302\n",
      "Epoch 75/150\n",
      "189612/189612 [==============================] - 4s 23us/step - loss: 0.6579 - acc: 0.6319 - val_loss: 0.6589 - val_acc: 0.6302\n",
      "Epoch 76/150\n",
      "189612/189612 [==============================] - 4s 23us/step - loss: 0.6579 - acc: 0.6319 - val_loss: 0.6589 - val_acc: 0.6302\n",
      "Epoch 77/150\n",
      "189612/189612 [==============================] - 4s 23us/step - loss: 0.6579 - acc: 0.6319 - val_loss: 0.6589 - val_acc: 0.6302\n",
      "Epoch 78/150\n",
      "189612/189612 [==============================] - 4s 22us/step - loss: 0.6580 - acc: 0.6319 - val_loss: 0.6589 - val_acc: 0.6302\n",
      "Epoch 79/150\n",
      "189612/189612 [==============================] - 4s 23us/step - loss: 0.6579 - acc: 0.6319 - val_loss: 0.6589 - val_acc: 0.6302\n",
      "Epoch 80/150\n",
      "189612/189612 [==============================] - 4s 23us/step - loss: 0.6579 - acc: 0.6319 - val_loss: 0.6589 - val_acc: 0.6302\n",
      "Epoch 81/150\n",
      "189612/189612 [==============================] - 4s 22us/step - loss: 0.6579 - acc: 0.6319 - val_loss: 0.6589 - val_acc: 0.6302\n",
      "Epoch 82/150\n",
      "189612/189612 [==============================] - 4s 23us/step - loss: 0.6579 - acc: 0.6319 - val_loss: 0.6588 - val_acc: 0.6302\n",
      "Epoch 83/150\n",
      "189612/189612 [==============================] - 4s 22us/step - loss: 0.6579 - acc: 0.6319 - val_loss: 0.6588 - val_acc: 0.6302\n",
      "Epoch 84/150\n",
      "189612/189612 [==============================] - 4s 23us/step - loss: 0.6579 - acc: 0.6319 - val_loss: 0.6588 - val_acc: 0.6302\n",
      "Epoch 85/150\n",
      "189612/189612 [==============================] - 4s 23us/step - loss: 0.6579 - acc: 0.6319 - val_loss: 0.6589 - val_acc: 0.6302\n",
      "Epoch 86/150\n",
      "189612/189612 [==============================] - 4s 22us/step - loss: 0.6579 - acc: 0.6319 - val_loss: 0.6589 - val_acc: 0.6302\n",
      "Epoch 87/150\n",
      "189612/189612 [==============================] - 4s 23us/step - loss: 0.6579 - acc: 0.6319 - val_loss: 0.6589 - val_acc: 0.6302\n",
      "Epoch 88/150\n",
      "189612/189612 [==============================] - 4s 22us/step - loss: 0.6579 - acc: 0.6319 - val_loss: 0.6589 - val_acc: 0.6302\n",
      "Epoch 89/150\n",
      "189612/189612 [==============================] - 4s 22us/step - loss: 0.6579 - acc: 0.6319 - val_loss: 0.6589 - val_acc: 0.6302\n",
      "Epoch 90/150\n",
      "189612/189612 [==============================] - 4s 23us/step - loss: 0.6579 - acc: 0.6319 - val_loss: 0.6589 - val_acc: 0.6302\n",
      "Epoch 91/150\n",
      "189612/189612 [==============================] - 4s 23us/step - loss: 0.6579 - acc: 0.6319 - val_loss: 0.6589 - val_acc: 0.6302\n",
      "Epoch 92/150\n",
      "189612/189612 [==============================] - 4s 23us/step - loss: 0.6579 - acc: 0.6319 - val_loss: 0.6589 - val_acc: 0.6302\n",
      "Epoch 93/150\n",
      "189612/189612 [==============================] - 4s 22us/step - loss: 0.6579 - acc: 0.6319 - val_loss: 0.6589 - val_acc: 0.6302\n",
      "Epoch 94/150\n",
      "189612/189612 [==============================] - 4s 23us/step - loss: 0.6579 - acc: 0.6319 - val_loss: 0.6589 - val_acc: 0.6302\n",
      "Epoch 95/150\n",
      "189612/189612 [==============================] - 5s 26us/step - loss: 0.6579 - acc: 0.6319 - val_loss: 0.6589 - val_acc: 0.6302\n",
      "Epoch 96/150\n",
      "189612/189612 [==============================] - 4s 22us/step - loss: 0.6579 - acc: 0.6319 - val_loss: 0.6589 - val_acc: 0.6302 2s  - ETA: 0s - loss: 0.6\n",
      "Epoch 97/150\n",
      "189612/189612 [==============================] - 4s 23us/step - loss: 0.6579 - acc: 0.6319 - val_loss: 0.6589 - val_acc: 0.6302\n",
      "Epoch 98/150\n",
      "189612/189612 [==============================] - 4s 23us/step - loss: 0.6579 - acc: 0.6319 - val_loss: 0.6589 - val_acc: 0.63020.63 - ETA: 1s - loss: \n",
      "Epoch 99/150\n",
      "189612/189612 [==============================] - 5s 27us/step - loss: 0.6579 - acc: 0.6319 - val_loss: 0.6589 - val_acc: 0.6302\n",
      "Epoch 100/150\n",
      "189612/189612 [==============================] - 5s 26us/step - loss: 0.6579 - acc: 0.6319 - val_loss: 0.6589 - val_acc: 0.6302\n",
      "Epoch 101/150\n",
      "189612/189612 [==============================] - 5s 27us/step - loss: 0.6579 - acc: 0.6319 - val_loss: 0.6589 - val_acc: 0.6302\n",
      "Epoch 102/150\n",
      "189612/189612 [==============================] - 5s 24us/step - loss: 0.6579 - acc: 0.6319 - val_loss: 0.6589 - val_acc: 0.6302\n",
      "Epoch 103/150\n",
      "189612/189612 [==============================] - 5s 26us/step - loss: 0.6579 - acc: 0.6319 - val_loss: 0.6589 - val_acc: 0.6302: 0s - loss: 0.6579\n",
      "Epoch 104/150\n",
      "189612/189612 [==============================] - 8s 41us/step - loss: 0.6579 - acc: 0.6319 - val_loss: 0.6589 - val_acc: 0.6302A: 0s - loss: 0.6581 - acc: 0\n",
      "Epoch 105/150\n",
      "189612/189612 [==============================] - 5s 27us/step - loss: 0.6579 - acc: 0.6319 - val_loss: 0.6589 - val_acc: 0.6302\n",
      "Epoch 106/150\n",
      "189612/189612 [==============================] - 6s 31us/step - loss: 0.6579 - acc: 0.6319 - val_loss: 0.6589 - val_acc: 0.6302\n",
      "Epoch 107/150\n",
      "189612/189612 [==============================] - 5s 28us/step - loss: 0.6579 - acc: 0.6319 - val_loss: 0.6589 - val_acc: 0.6302\n",
      "Epoch 108/150\n",
      "189612/189612 [==============================] - 6s 30us/step - loss: 0.6579 - acc: 0.6319 - val_loss: 0.6589 - val_acc: 0.6302\n",
      "Epoch 109/150\n",
      "189612/189612 [==============================] - 5s 28us/step - loss: 0.6579 - acc: 0.6319 - val_loss: 0.6589 - val_acc: 0.6302\n",
      "Epoch 110/150\n",
      "189612/189612 [==============================] - 6s 30us/step - loss: 0.6579 - acc: 0.6319 - val_loss: 0.6589 - val_acc: 0.6302\n",
      "Epoch 111/150\n",
      "189612/189612 [==============================] - 5s 24us/step - loss: 0.6579 - acc: 0.6319 - val_loss: 0.6589 - val_acc: 0.6302\n",
      "Epoch 112/150\n",
      "189612/189612 [==============================] - 4s 23us/step - loss: 0.6579 - acc: 0.6319 - val_loss: 0.6589 - val_acc: 0.6302\n",
      "Epoch 113/150\n",
      "189612/189612 [==============================] - 5s 24us/step - loss: 0.6579 - acc: 0.6319 - val_loss: 0.6589 - val_acc: 0.6302\n",
      "Epoch 114/150\n"
     ]
    },
    {
     "name": "stdout",
     "output_type": "stream",
     "text": [
      "189612/189612 [==============================] - 4s 22us/step - loss: 0.6579 - acc: 0.6319 - val_loss: 0.6589 - val_acc: 0.6302\n",
      "Epoch 115/150\n",
      "189612/189612 [==============================] - 4s 22us/step - loss: 0.6579 - acc: 0.6319 - val_loss: 0.6589 - val_acc: 0.6302\n",
      "Epoch 116/150\n",
      "189612/189612 [==============================] - 4s 22us/step - loss: 0.6579 - acc: 0.6319 - val_loss: 0.6588 - val_acc: 0.6302\n",
      "Epoch 117/150\n",
      "189612/189612 [==============================] - 4s 22us/step - loss: 0.6579 - acc: 0.6319 - val_loss: 0.6589 - val_acc: 0.6302\n",
      "Epoch 118/150\n",
      "189612/189612 [==============================] - 4s 23us/step - loss: 0.6579 - acc: 0.6319 - val_loss: 0.6589 - val_acc: 0.6302\n",
      "Epoch 119/150\n",
      "189612/189612 [==============================] - 4s 22us/step - loss: 0.6579 - acc: 0.6319 - val_loss: 0.6589 - val_acc: 0.6302\n",
      "Epoch 120/150\n",
      "189612/189612 [==============================] - 4s 22us/step - loss: 0.6579 - acc: 0.6319 - val_loss: 0.6589 - val_acc: 0.6302\n",
      "Epoch 121/150\n",
      "189612/189612 [==============================] - 4s 23us/step - loss: 0.6579 - acc: 0.6319 - val_loss: 0.6589 - val_acc: 0.6302\n",
      "Epoch 122/150\n",
      "189612/189612 [==============================] - 4s 23us/step - loss: 0.6579 - acc: 0.6319 - val_loss: 0.6589 - val_acc: 0.6302\n",
      "Epoch 123/150\n",
      "189612/189612 [==============================] - 5s 26us/step - loss: 0.6579 - acc: 0.6319 - val_loss: 0.6588 - val_acc: 0.6302\n",
      "Epoch 124/150\n",
      "189612/189612 [==============================] - 5s 24us/step - loss: 0.6579 - acc: 0.6319 - val_loss: 0.6589 - val_acc: 0.6302\n",
      "Epoch 125/150\n",
      "189612/189612 [==============================] - 4s 23us/step - loss: 0.6579 - acc: 0.6319 - val_loss: 0.6589 - val_acc: 0.6302\n",
      "Epoch 126/150\n",
      "189612/189612 [==============================] - 4s 23us/step - loss: 0.6579 - acc: 0.6319 - val_loss: 0.6589 - val_acc: 0.6302\n",
      "Epoch 127/150\n",
      "189612/189612 [==============================] - 4s 23us/step - loss: 0.6579 - acc: 0.6319 - val_loss: 0.6589 - val_acc: 0.6302\n",
      "Epoch 128/150\n",
      "189612/189612 [==============================] - 5s 25us/step - loss: 0.6579 - acc: 0.6319 - val_loss: 0.6588 - val_acc: 0.6302\n",
      "Epoch 129/150\n",
      "189612/189612 [==============================] - 5s 25us/step - loss: 0.6579 - acc: 0.6319 - val_loss: 0.6589 - val_acc: 0.6302\n",
      "Epoch 130/150\n",
      "189612/189612 [==============================] - 5s 24us/step - loss: 0.6579 - acc: 0.6319 - val_loss: 0.6589 - val_acc: 0.6302\n",
      "Epoch 131/150\n",
      "189612/189612 [==============================] - 5s 24us/step - loss: 0.6579 - acc: 0.6319 - val_loss: 0.6588 - val_acc: 0.6302\n",
      "Epoch 132/150\n",
      "189612/189612 [==============================] - 4s 22us/step - loss: 0.6579 - acc: 0.6319 - val_loss: 0.6589 - val_acc: 0.6302\n",
      "Epoch 133/150\n",
      "189612/189612 [==============================] - 4s 22us/step - loss: 0.6579 - acc: 0.6319 - val_loss: 0.6589 - val_acc: 0.6302\n",
      "Epoch 134/150\n",
      "189612/189612 [==============================] - 4s 22us/step - loss: 0.6579 - acc: 0.6319 - val_loss: 0.6590 - val_acc: 0.6302\n",
      "Epoch 135/150\n",
      "189612/189612 [==============================] - 4s 22us/step - loss: 0.6580 - acc: 0.6319 - val_loss: 0.6589 - val_acc: 0.6302\n",
      "Epoch 136/150\n",
      "189612/189612 [==============================] - 4s 22us/step - loss: 0.6579 - acc: 0.6319 - val_loss: 0.6589 - val_acc: 0.6302\n",
      "Epoch 137/150\n",
      "189612/189612 [==============================] - 4s 22us/step - loss: 0.6579 - acc: 0.6319 - val_loss: 0.6589 - val_acc: 0.6302\n",
      "Epoch 138/150\n",
      "189612/189612 [==============================] - 4s 23us/step - loss: 0.6579 - acc: 0.6319 - val_loss: 0.6589 - val_acc: 0.6302\n",
      "Epoch 139/150\n",
      "189612/189612 [==============================] - 4s 21us/step - loss: 0.6579 - acc: 0.6319 - val_loss: 0.6589 - val_acc: 0.6302\n",
      "Epoch 140/150\n",
      "189612/189612 [==============================] - 4s 23us/step - loss: 0.6579 - acc: 0.6319 - val_loss: 0.6588 - val_acc: 0.6302\n",
      "Epoch 141/150\n",
      "189612/189612 [==============================] - 4s 22us/step - loss: 0.6579 - acc: 0.6319 - val_loss: 0.6589 - val_acc: 0.6302\n",
      "Epoch 142/150\n",
      "189612/189612 [==============================] - 4s 22us/step - loss: 0.6579 - acc: 0.6319 - val_loss: 0.6589 - val_acc: 0.6302\n",
      "Epoch 143/150\n",
      "189612/189612 [==============================] - 4s 23us/step - loss: 0.6579 - acc: 0.6319 - val_loss: 0.6588 - val_acc: 0.6302\n",
      "Epoch 144/150\n",
      "189612/189612 [==============================] - 5s 24us/step - loss: 0.6579 - acc: 0.6319 - val_loss: 0.6590 - val_acc: 0.6302\n",
      "Epoch 145/150\n",
      "189612/189612 [==============================] - 4s 23us/step - loss: 0.6579 - acc: 0.6319 - val_loss: 0.6589 - val_acc: 0.6302\n",
      "Epoch 146/150\n",
      "189612/189612 [==============================] - 5s 24us/step - loss: 0.6579 - acc: 0.6319 - val_loss: 0.6588 - val_acc: 0.6302\n",
      "Epoch 147/150\n",
      "189612/189612 [==============================] - 5s 24us/step - loss: 0.6579 - acc: 0.6319 - val_loss: 0.6589 - val_acc: 0.6302ss: 0.6582 - acc: 0. - ETA: 3s - loss: 0.6570 - acc: 0.6 - ETA: - ETA: 0s - loss: \n",
      "Epoch 148/150\n",
      "189612/189612 [==============================] - 4s 23us/step - loss: 0.6579 - acc: 0.6319 - val_loss: 0.6589 - val_acc: 0.6302\n",
      "Epoch 149/150\n",
      "189612/189612 [==============================] - 5s 25us/step - loss: 0.6579 - acc: 0.6319 - val_loss: 0.6588 - val_acc: 0.6302\n",
      "Epoch 150/150\n",
      "189612/189612 [==============================] - 4s 24us/step - loss: 0.6579 - acc: 0.6319 - val_loss: 0.6588 - val_acc: 0.6302\n"
     ]
    }
   ],
   "source": [
    "history = model.fit(X_train, Y_train, validation_split=0.33,epochs=150,batch_size=64)"
   ]
  },
  {
   "cell_type": "code",
   "execution_count": 386,
   "metadata": {},
   "outputs": [],
   "source": [
    "score = model.evaluate(X_test, Y_test,verbose=0)\n",
    "\n"
   ]
  },
  {
   "cell_type": "code",
   "execution_count": null,
   "metadata": {},
   "outputs": [],
   "source": [
    "score"
   ]
  },
  {
   "cell_type": "code",
   "execution_count": 387,
   "metadata": {},
   "outputs": [
    {
     "name": "stdout",
     "output_type": "stream",
     "text": [
      "Test score: 0.6592240573097162\n",
      "Test accuracy: 0.6294986272245072\n"
     ]
    }
   ],
   "source": [
    "\n",
    "\n",
    "print('Test score:', score[0])\n",
    "print('Test accuracy:', score[1])"
   ]
  },
  {
   "cell_type": "code",
   "execution_count": null,
   "metadata": {},
   "outputs": [],
   "source": [
    "print(history.history.keys())"
   ]
  },
  {
   "cell_type": "code",
   "execution_count": null,
   "metadata": {},
   "outputs": [],
   "source": []
  },
  {
   "cell_type": "code",
   "execution_count": 388,
   "metadata": {},
   "outputs": [
    {
     "data": {
      "image/png": "[encoded data removed]",
      "text/plain": [
       "<Figure size 432x288 with 1 Axes>"
      ]
     },
     "metadata": {},
     "output_type": "display_data"
    }
   ],
   "source": [
    "\n",
    "# summarize history for accuracy\n",
    "plt.plot(history.history['acc'])\n",
    "plt.plot(history.history['val_acc'])\n",
    "plt.title('model accuracy')\n",
    "plt.ylabel('accuracy')\n",
    "plt.xlabel('epoch')\n",
    "plt.legend(['train', 'test'], loc='upper left')\n",
    "plt.show()"
   ]
  },
  {
   "cell_type": "code",
   "execution_count": null,
   "metadata": {},
   "outputs": [],
   "source": []
  },
  {
   "cell_type": "code",
   "execution_count": null,
   "metadata": {},
   "outputs": [],
   "source": []
  },
  {
   "cell_type": "code",
   "execution_count": null,
   "metadata": {},
   "outputs": [],
   "source": []
  },
  {
   "cell_type": "code",
   "execution_count": null,
   "metadata": {},
   "outputs": [],
   "source": []
  },
  {
   "cell_type": "code",
   "execution_count": 389,
   "metadata": {},
   "outputs": [
    {
     "data": {
      "image/png": "[encoded data removed]",
      "text/plain": [
       "<Figure size 432x288 with 1 Axes>"
      ]
     },
     "metadata": {},
     "output_type": "display_data"
    }
   ],
   "source": [
    "# summarize history for loss\n",
    "plt.plot(history.history['loss'])\n",
    "plt.plot(history.history['val_loss'])\n",
    "plt.title('model loss')\n",
    "plt.ylabel('loss')\n",
    "plt.xlabel('epoch')\n",
    "plt.legend(['train', 'test'], loc='upper left')\n",
    "plt.show()"
   ]
  },
  {
   "cell_type": "code",
   "execution_count": 390,
   "metadata": {},
   "outputs": [
    {
     "name": "stdout",
     "output_type": "stream",
     "text": [
      "First prediction: [[0.63048565 0.3695143 ]\n",
      " [0.63048565 0.3695143 ]\n",
      " [0.63048565 0.3695143 ]\n",
      " ...\n",
      " [0.63048565 0.3695143 ]\n",
      " [0.63048565 0.3695143 ]\n",
      " [0.63048565 0.3695143 ]]\n"
     ]
    }
   ],
   "source": [
    "predictions = model.predict(X_test)\n",
    "print('First prediction:', predictions)"
   ]
  },
  {
   "cell_type": "code",
   "execution_count": null,
   "metadata": {},
   "outputs": [],
   "source": []
  }
 ],
 "metadata": {
  "kernelspec": {
   "display_name": "Python 3",
   "language": "python",
   "name": "python3"
  },
  "language_info": {
   "codemirror_mode": {
    "name": "ipython",
    "version": 3
   },
   "file_extension": ".py",
   "mimetype": "text/x-python",
   "name": "python",
   "nbconvert_exporter": "python",
   "pygments_lexer": "ipython3",
   "version": "3.6.5"
  }
 },
 "nbformat": 4,
 "nbformat_minor": 2
}
